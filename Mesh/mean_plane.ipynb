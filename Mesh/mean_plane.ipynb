{
 "cells": [
  {
   "cell_type": "code",
   "execution_count": 32,
   "id": "81ab0e40-c33c-4f52-aff7-6e58e4024748",
   "metadata": {},
   "outputs": [],
   "source": [
    "from mean_plane import Data,Log,Visualization,CollisionHandler"
   ]
  },
  {
   "cell_type": "code",
   "execution_count": 33,
   "id": "924557ca-9579-47ef-9236-ec6735a3ff39",
   "metadata": {},
   "outputs": [],
   "source": [
    "import numpy as np"
   ]
  },
  {
   "cell_type": "code",
   "execution_count": 34,
   "id": "062a6fab-704c-4e41-a15d-460b3d674545",
   "metadata": {},
   "outputs": [],
   "source": [
    "path = \"Matheus_Campo/2022-07-15-14-45\"\n",
    "img_name = \"2022-07-15-14-45-Frame-12.jpg\"\n",
    "# Using cv2.imread() method\n",
    "#img = cv2.imread(path+\"/\"+img_name)\n",
    "\n",
    "# Displaying the image\n",
    "#cv2.imshow('image', img)\n",
    "#cv2.waitKey(50)\n",
    "#for k in range(2,36):\n",
    "\n",
    "k = 12\n",
    "data             = Data(path,frame = k)\n",
    "#viz              = Visualization()\n",
    "#collisionHandler = CollisionHandler()\n",
    "\n",
    "\n",
    "logs = []\n",
    "for position,quaternion in zip(data.positions,data.rotations):\n",
    "    x,y,z,r = position\n",
    "    logs.append(Log(x,y,z,r,quaternion))"
   ]
  },
  {
   "cell_type": "code",
   "execution_count": 35,
   "id": "8272181d-2971-470d-9da7-7695751938f6",
   "metadata": {},
   "outputs": [
    {
     "data": {
      "text/plain": [
       "<matplotlib.collections.PathCollection at 0x7ff86d6de520>"
      ]
     },
     "execution_count": 35,
     "metadata": {},
     "output_type": "execute_result"
    },
    {
     "data": {
      "image/png": "[encoded data removed]",
      "text/plain": [
       "<Figure size 432x144 with 1 Axes>"
      ]
     },
     "metadata": {
      "needs_background": "light"
     },
     "output_type": "display_data"
    }
   ],
   "source": [
    "import matplotlib.pyplot as plt\n",
    "mask = data.positions#[:,2]<10\n",
    "points = data.positions#[mask]\n",
    "plt.figure(figsize = (6,2))\n",
    "plt.scatter(points[:,0],points[:,2])"
   ]
  },
  {
   "cell_type": "code",
   "execution_count": 8,
   "id": "2d2ca272-609c-4420-a3ef-9d3ed24296e7",
   "metadata": {},
   "outputs": [],
   "source": [
    "#data.positions = data.positions[data.positions[:,2]]"
   ]
  },
  {
   "cell_type": "code",
   "execution_count": 10,
   "id": "05642d00-5a03-48a9-b38e-252b750aa6d8",
   "metadata": {},
   "outputs": [],
   "source": [
    "from sklearn import linear_model\n",
    "\n",
    "def RANSAC(X,y,max_trials = 130,min_samples = 0.8,stop_probability = 0.99):\n",
    "    X,y = X.reshape(-1,1),y.reshape(-1,1)\n",
    "    # Robustly fit linear model with RANSAC algorithm\n",
    "    ransac = linear_model.RANSACRegressor(max_trials       = max_trials, \n",
    "                                          min_samples      = min_samples,\n",
    "                                          stop_probability = stop_probability )\n",
    "    ransac.fit(X, y)\n",
    "    inlier_mask = ransac.inlier_mask_\n",
    "    outlier_mask = np.logical_not(inlier_mask)\n",
    "\n",
    "    # Predict data of estimated models\n",
    "    line_X = np.arange(X.min(), X.max())[:, np.newaxis]\n",
    "    #line_y = lr.predict(line_X)\n",
    "    line_y_ransac = ransac.predict(line_X)\n",
    "    \n",
    "    return line_X, line_y_ransac"
   ]
  },
  {
   "cell_type": "code",
   "execution_count": 38,
   "id": "84fcbcd3-48eb-4818-acd7-cc15ff78331a",
   "metadata": {},
   "outputs": [
    {
     "data": {
      "text/plain": [
       "[<matplotlib.lines.Line2D at 0x7ff87b564df0>]"
      ]
     },
     "execution_count": 38,
     "metadata": {},
     "output_type": "execute_result"
    },
    {
     "data": {
      "image/png": "[encoded data removed]",
      "text/plain": [
       "<Figure size 432x288 with 1 Axes>"
      ]
     },
     "metadata": {
      "needs_background": "light"
     },
     "output_type": "display_data"
    }
   ],
   "source": [
    "line_X, line_z_ransac = RANSAC(points[:20,0],points[:20,2])\n",
    "plt.scatter(points[:,0],points[:,2])                            \n",
    "plt.plot(line_X, line_z_ransac,c = 'red')"
   ]
  },
  {
   "cell_type": "code",
   "execution_count": 20,
   "id": "9cf7ade4-9530-419c-8a9a-255c52b30290",
   "metadata": {},
   "outputs": [
    {
     "name": "stdout",
     "output_type": "stream",
     "text": [
      "9.635 6.957372619251832 -1\n",
      "10.635 7.436878778516091 -1\n",
      "11.635 7.91638493778035 -1\n",
      "12.635 8.39589109704461 -1\n",
      "13.635 8.875397256308869 -1\n",
      "14.635 9.354903415573126 -1\n"
     ]
    }
   ],
   "source": []
  },
  {
   "cell_type": "code",
   "execution_count": 39,
   "id": "940ebfff-4466-4fe2-a92c-88102294c556",
   "metadata": {},
   "outputs": [],
   "source": [
    "vertex    = [(line_X[0][0], line_z_ransac[0][0] ,-1 ),\n",
    "             (line_X[0][0], line_z_ransac[0][0] ,1.7),\n",
    "             (line_X[-1][0],line_z_ransac[-1][0],-1 ),\n",
    "             (line_X[-1][0],line_z_ransac[-1][0],1.7)  ]\n",
    "triangles = [(0,1,2),(1,2,3)]\n",
    "vertex    = np.array(vertex)\n",
    "triangles = np.array(triangles)"
   ]
  },
  {
   "cell_type": "code",
   "execution_count": null,
   "id": "46cccca7-a284-42c8-82ee-167ed767f988",
   "metadata": {},
   "outputs": [],
   "source": [
    "Quaternion q;\n",
    "vector a = crossproduct(v1, v2);\n",
    "q.xyz = a;\n",
    "q.w = sqrt((v1.Length ^ 2) * (v2.Length ^ 2)) + dotproduct(v1, v2);"
   ]
  },
  {
   "cell_type": "code",
   "execution_count": 44,
   "id": "e7f92b22-2e85-4054-8e95-82a85fc3fc39",
   "metadata": {},
   "outputs": [],
   "source": [
    "def normalize(v):\n",
    "    return v / (max(np.linalg.norm(v), 1e-16))"
   ]
  },
  {
   "cell_type": "code",
   "execution_count": 50,
   "id": "fee704b6-489e-489c-acbf-c5f2ac5ad568",
   "metadata": {},
   "outputs": [],
   "source": [
    "v1 = vertex[0]-vertex[2]  \n",
    "v2 = vertex[0]-vertex[1]  \n",
    "v1 = normalize(v1)\n",
    "v2 = normalize(v2)\n",
    "normal = np.cross(v1, v2)"
   ]
  },
  {
   "cell_type": "code",
   "execution_count": 62,
   "id": "69d3ac82-871f-40bb-8188-dbfbec82b032",
   "metadata": {},
   "outputs": [
    {
     "data": {
      "text/plain": [
       "array([ 0.84256329, -0.        ,  0.        ,  0.53859735])"
      ]
     },
     "execution_count": 62,
     "metadata": {},
     "output_type": "execute_result"
    }
   ],
   "source": [
    "u = normal\n",
    "v = np.array([1,0,0])\n",
    "quaternion = np.array([1+np.dot(u, v)] + list(np.cross(u, v)))\n",
    "quaternion = normalize(quaternion)\n",
    "\n",
    "quaternion\n"
   ]
  },
  {
   "cell_type": "code",
   "execution_count": null,
   "id": "8f7e992c-f1d7-4588-9c31-d64f0d2b66a2",
   "metadata": {},
   "outputs": [],
   "source": [
    "Quaternion(1 + dot(u, v), cross(u, v)).normalize()"
   ]
  }
 ],
 "metadata": {
  "kernelspec": {
   "display_name": "Python 3 (ipykernel)",
   "language": "python",
   "name": "python3"
  },
  "language_info": {
   "codemirror_mode": {
    "name": "ipython",
    "version": 3
   },
   "file_extension": ".py",
   "mimetype": "text/x-python",
   "name": "python",
   "nbconvert_exporter": "python",
   "pygments_lexer": "ipython3",
   "version": "3.9.13"
  }
 },
 "nbformat": 4,
 "nbformat_minor": 5
}
