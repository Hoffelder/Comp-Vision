{
 "cells": [
  {
   "cell_type": "markdown",
   "metadata": {
    "id": "-woo9XWFpTUk"
   },
   "source": [
    "CONECTAR COM O DRIVE"
   ]
  },
  {
   "cell_type": "code",
   "execution_count": null,
   "metadata": {
    "colab": {
     "base_uri": "https://localhost:8080/"
    },
    "executionInfo": {
     "elapsed": 19291,
     "status": "ok",
     "timestamp": 1649344421207,
     "user": {
      "displayName": "Dev Pixlog",
      "userId": "08701028484598174434"
     },
     "user_tz": 180
    },
    "id": "dZm9AsKyAsYn",
    "outputId": "0b356295-8e1d-46b1-b0f6-87ca6470d3e5"
   },
   "outputs": [],
   "source": [
    "#from google.colab import drive\n",
    "#drive.mount('/content/drive')"
   ]
  },
  {
   "cell_type": "code",
   "execution_count": 1,
   "metadata": {},
   "outputs": [
    {
     "name": "stdout",
     "output_type": "stream",
     "text": [
      "Python 3.8.13\n"
     ]
    }
   ],
   "source": [
    "!python --version"
   ]
  },
  {
   "cell_type": "code",
   "execution_count": 2,
   "metadata": {},
   "outputs": [],
   "source": [
    "#sudo apt install libpython3.8-dev"
   ]
  },
  {
   "cell_type": "markdown",
   "metadata": {
    "id": "9USk6yvxpYKZ"
   },
   "source": [
    "INSTALL AND IMPORT LIBRARIES"
   ]
  },
  {
   "cell_type": "code",
   "execution_count": 3,
   "metadata": {},
   "outputs": [],
   "source": [
    "#!pip install tensorflow-gpu \n",
    "#!pip install tflite-model-maker \n",
    "#!pip install pycocotools \n",
    "#!pip install tflite-support \n",
    "#!pip install google "
   ]
  },
  {
   "cell_type": "code",
   "execution_count": 1,
   "metadata": {},
   "outputs": [
    {
     "name": "stdout",
     "output_type": "stream",
     "text": [
      "2.9.1\n",
      "3.8.13 (default, Apr 19 2022, 02:32:06) \n",
      "[GCC 11.2.0]\n"
     ]
    },
    {
     "name": "stderr",
     "output_type": "stream",
     "text": [
      "2022-11-16 12:27:22.455505: I tensorflow/core/platform/cpu_feature_guard.cc:193] This TensorFlow binary is optimized with oneAPI Deep Neural Network Library (oneDNN) to use the following CPU instructions in performance-critical operations:  AVX2 FMA\n",
      "To enable them in other operations, rebuild TensorFlow with the appropriate compiler flags.\n",
      "2022-11-16 12:27:22.485208: I tensorflow/stream_executor/cuda/cuda_gpu_executor.cc:975] successful NUMA node read from SysFS had negative value (-1), but there must be at least one NUMA node, so returning NUMA node zero\n",
      "2022-11-16 12:27:22.503314: I tensorflow/stream_executor/cuda/cuda_gpu_executor.cc:975] successful NUMA node read from SysFS had negative value (-1), but there must be at least one NUMA node, so returning NUMA node zero\n",
      "2022-11-16 12:27:22.503442: I tensorflow/stream_executor/cuda/cuda_gpu_executor.cc:975] successful NUMA node read from SysFS had negative value (-1), but there must be at least one NUMA node, so returning NUMA node zero\n",
      "2022-11-16 12:27:22.778235: I tensorflow/stream_executor/cuda/cuda_gpu_executor.cc:975] successful NUMA node read from SysFS had negative value (-1), but there must be at least one NUMA node, so returning NUMA node zero\n",
      "2022-11-16 12:27:22.778363: I tensorflow/stream_executor/cuda/cuda_gpu_executor.cc:975] successful NUMA node read from SysFS had negative value (-1), but there must be at least one NUMA node, so returning NUMA node zero\n",
      "2022-11-16 12:27:22.778457: I tensorflow/stream_executor/cuda/cuda_gpu_executor.cc:975] successful NUMA node read from SysFS had negative value (-1), but there must be at least one NUMA node, so returning NUMA node zero\n",
      "2022-11-16 12:27:22.778538: I tensorflow/core/common_runtime/gpu/gpu_device.cc:1532] Created device /device:GPU:0 with 7797 MB memory:  -> device: 0, name: NVIDIA GeForce RTX 3080, pci bus id: 0000:08:00.0, compute capability: 8.6\n",
      "2022-11-16 12:27:22.779171: I tensorflow/stream_executor/cuda/cuda_gpu_executor.cc:975] successful NUMA node read from SysFS had negative value (-1), but there must be at least one NUMA node, so returning NUMA node zero\n",
      "2022-11-16 12:27:22.779271: I tensorflow/stream_executor/cuda/cuda_gpu_executor.cc:975] successful NUMA node read from SysFS had negative value (-1), but there must be at least one NUMA node, so returning NUMA node zero\n",
      "2022-11-16 12:27:22.779353: I tensorflow/stream_executor/cuda/cuda_gpu_executor.cc:975] successful NUMA node read from SysFS had negative value (-1), but there must be at least one NUMA node, so returning NUMA node zero\n",
      "2022-11-16 12:27:22.779451: I tensorflow/stream_executor/cuda/cuda_gpu_executor.cc:975] successful NUMA node read from SysFS had negative value (-1), but there must be at least one NUMA node, so returning NUMA node zero\n",
      "2022-11-16 12:27:22.779536: I tensorflow/stream_executor/cuda/cuda_gpu_executor.cc:975] successful NUMA node read from SysFS had negative value (-1), but there must be at least one NUMA node, so returning NUMA node zero\n",
      "2022-11-16 12:27:22.779597: I tensorflow/core/common_runtime/gpu/gpu_device.cc:1532] Created device /device:GPU:0 with 7797 MB memory:  -> device: 0, name: NVIDIA GeForce RTX 3080, pci bus id: 0000:08:00.0, compute capability: 8.6\n"
     ]
    },
    {
     "data": {
      "text/plain": [
       "[name: \"/device:CPU:0\"\n",
       " device_type: \"CPU\"\n",
       " memory_limit: 268435456\n",
       " locality {\n",
       " }\n",
       " incarnation: 15513944681479843353\n",
       " xla_global_id: -1,\n",
       " name: \"/device:GPU:0\"\n",
       " device_type: \"GPU\"\n",
       " memory_limit: 8176009216\n",
       " locality {\n",
       "   bus_id: 1\n",
       "   links {\n",
       "   }\n",
       " }\n",
       " incarnation: 11883662119546209590\n",
       " physical_device_desc: \"device: 0, name: NVIDIA GeForce RTX 3080, pci bus id: 0000:08:00.0, compute capability: 8.6\"\n",
       " xla_global_id: 416903419]"
      ]
     },
     "execution_count": 1,
     "metadata": {},
     "output_type": "execute_result"
    }
   ],
   "source": [
    "import tensorflow as tf\n",
    "assert tf.__version__.startswith('2')\n",
    "\n",
    "print(tf.__version__)\n",
    "import sys\n",
    "print(sys.version)\n",
    "tf.test.gpu_device_name()\n",
    "from tensorflow.python.client import device_lib\n",
    "device_lib.list_local_devices()"
   ]
  },
  {
   "cell_type": "code",
   "execution_count": 3,
   "metadata": {
    "executionInfo": {
     "elapsed": 331,
     "status": "ok",
     "timestamp": 1649344697569,
     "user": {
      "displayName": "Dev Pixlog",
      "userId": "08701028484598174434"
     },
     "user_tz": 180
    },
    "id": "0hFZ4uxSR2Ki"
   },
   "outputs": [],
   "source": [
    "import numpy as np\n",
    "from tflite_model_maker.config import ExportFormat\n",
    "from tflite_model_maker import model_spec\n",
    "from tflite_model_maker import object_detector\n",
    "\n",
    "tf.get_logger().setLevel('ERROR')\n",
    "from absl import logging\n",
    "logging.set_verbosity(logging.ERROR)"
   ]
  },
  {
   "cell_type": "code",
   "execution_count": 4,
   "metadata": {
    "colab": {
     "base_uri": "https://localhost:8080/"
    },
    "executionInfo": {
     "elapsed": 340,
     "status": "ok",
     "timestamp": 1649346106677,
     "user": {
      "displayName": "Dev Pixlog",
      "userId": "08701028484598174434"
     },
     "user_tz": 180
    },
    "id": "Ymz0UJSnR5xq",
    "outputId": "17c31483-d45d-4031-9429-9bf0880857d9"
   },
   "outputs": [
    {
     "name": "stdout",
     "output_type": "stream",
     "text": [
      "2.9.1\n",
      "3.8.13 (default, Apr 19 2022, 02:32:06) \n",
      "[GCC 11.2.0]\n"
     ]
    },
    {
     "name": "stderr",
     "output_type": "stream",
     "text": [
      "2022-11-14 11:58:30.870694: I tensorflow/stream_executor/cuda/cuda_gpu_executor.cc:975] successful NUMA node read from SysFS had negative value (-1), but there must be at least one NUMA node, so returning NUMA node zero\n",
      "2022-11-14 11:58:30.870854: I tensorflow/stream_executor/cuda/cuda_gpu_executor.cc:975] successful NUMA node read from SysFS had negative value (-1), but there must be at least one NUMA node, so returning NUMA node zero\n",
      "2022-11-14 11:58:30.870945: I tensorflow/stream_executor/cuda/cuda_gpu_executor.cc:975] successful NUMA node read from SysFS had negative value (-1), but there must be at least one NUMA node, so returning NUMA node zero\n",
      "2022-11-14 11:58:30.871073: I tensorflow/stream_executor/cuda/cuda_gpu_executor.cc:975] successful NUMA node read from SysFS had negative value (-1), but there must be at least one NUMA node, so returning NUMA node zero\n",
      "2022-11-14 11:58:30.871162: I tensorflow/stream_executor/cuda/cuda_gpu_executor.cc:975] successful NUMA node read from SysFS had negative value (-1), but there must be at least one NUMA node, so returning NUMA node zero\n",
      "2022-11-14 11:58:30.871229: I tensorflow/core/common_runtime/gpu/gpu_device.cc:1532] Created device /device:GPU:0 with 7"
     ]
    },
    {
     "data": {
      "text/plain": [
       "[name: \"/device:CPU:0\"\n",
       " device_type: \"CPU\"\n",
       " memory_limit: 268435456\n",
       " locality {\n",
       " }\n",
       " incarnation: 177532164487001902\n",
       " xla_global_id: -1,\n",
       " name: \"/device:GPU:0\"\n",
       " device_type: \"GPU\"\n",
       " memory_limit: 8164212736\n",
       " locality {\n",
       "   bus_id: 1\n",
       "   links {\n",
       "   }\n",
       " }\n",
       " incarnation: 9816598453145466928\n",
       " physical_device_desc: \"device: 0, name: NVIDIA GeForce RTX 3080, pci bus id: 0000:08:00.0, compute capability: 8.6\"\n",
       " xla_global_id: 416903419]"
      ]
     },
     "execution_count": 4,
     "metadata": {},
     "output_type": "execute_result"
    },
    {
     "name": "stderr",
     "output_type": "stream",
     "text": [
      "786 MB memory:  -> device: 0, name: NVIDIA GeForce RTX 3080, pci bus id: 0000:08:00.0, compute capability: 8.6\n",
      "2022-11-14 11:58:30.871378: I tensorflow/stream_executor/cuda/cuda_gpu_executor.cc:975] successful NUMA node read from SysFS had negative value (-1), but there must be at least one NUMA node, so returning NUMA node zero\n",
      "2022-11-14 11:58:30.871472: I tensorflow/stream_executor/cuda/cuda_gpu_executor.cc:975] successful NUMA node read from SysFS had negative value (-1), but there must be at least one NUMA node, so returning NUMA node zero\n",
      "2022-11-14 11:58:30.871553: I tensorflow/stream_executor/cuda/cuda_gpu_executor.cc:975] successful NUMA node read from SysFS had negative value (-1), but there must be at least one NUMA node, so returning NUMA node zero\n",
      "2022-11-14 11:58:30.871715: I tensorflow/stream_executor/cuda/cuda_gpu_executor.cc:975] successful NUMA node read from SysFS had negative value (-1), but there must be at least one NUMA node, so returning NUMA node zero\n",
      "2022-11-14 11:58:30.871799: I tensorflow/stream_executor/cuda/cuda_gpu_executor.cc:975] successful NUMA node read from SysFS had negative value (-1), but there must be at least one NUMA node, so returning NUMA node zero\n",
      "2022-11-14 11:58:30.871861: I tensorflow/core/common_runtime/gpu/gpu_device.cc:1532] Created device /device:GPU:0 with 7786 MB memory:  -> device: 0, name: NVIDIA GeForce RTX 3080, pci bus id: 0000:08:00.0, compute capability: 8.6\n"
     ]
    }
   ],
   "source": [
    "print(tf.__version__)\n",
    "import sys\n",
    "print(sys.version)\n",
    "tf.test.gpu_device_name()\n",
    "from tensorflow.python.client import device_lib\n",
    "device_lib.list_local_devices()"
   ]
  },
  {
   "cell_type": "markdown",
   "metadata": {
    "id": "n0jfUuvCplWX"
   },
   "source": [
    "ESCOLHER UMA ARQUITETURA ABAIXO (EFFICIENTDET LITE 2, EFFICIENTDET LITE 0, EFFICIENTDET LITE 4)"
   ]
  },
  {
   "cell_type": "code",
   "execution_count": 10,
   "metadata": {
    "id": "CKtN4EgFK_QH"
   },
   "outputs": [],
   "source": [
    "#EFFICIENTDET LITE 2\n",
    "\n",
    "spec = object_detector.EfficientDetSpec(\n",
    "    model_name = 'efficientdet-lite2',\n",
    "    uri = 'https://tfhub.dev/tensorflow/efficientdet/lite2/feature-vector/1',\n",
    "    # hparams = {'max_instances_per_image' : 300, 'optimizer' : 'adam', 'learning_rate' : 0.008, 'lr_warmup_init' : 0.0008},\n",
    "    # hparams = {'max_instances_per_image' : 300, 'optimizer' : 'sgd', 'learning_rate' : 0.08, 'lr_warmup_init' : 0.008},\n",
    "    hparams = {'max_instances_per_image' : 300,'optimizer' : 'adam'},\n",
    "    model_dir = './models',\n",
    "    epochs = 1,\n",
    "    batch_size = 8,\n",
    "    steps_per_execution = 1,\n",
    "    moving_average_decay = 0,\n",
    "    var_freeze_expr = '(efficientnet|fpn_cells|resample_p6)',\n",
    "    tflite_max_detections = 200,\n",
    "    strategy = None,\n",
    "    tpu = None,\n",
    "    gcp_project = None,\n",
    "    tpu_zone = None,\n",
    "    use_xla = True,\n",
    "    profile = False,\n",
    "    debug = False,\n",
    "    tf_random_seed = 111111,\n",
    "    verbose = 0\n",
    ")"
   ]
  },
  {
   "cell_type": "code",
   "execution_count": 5,
   "metadata": {
    "id": "U9uRPj8Rs-15"
   },
   "outputs": [
    {
     "name": "stderr",
     "output_type": "stream",
     "text": [
      "2022-11-14 11:58:31.078786: I tensorflow/stream_executor/cuda/cuda_gpu_executor.cc:975] successful NUMA node read from SysFS had negative value (-1), but there must be at least one NUMA node, so returning NUMA node zero\n",
      "2022-11-14 11:58:31.079003: I tensorflow/stream_executor/cuda/cuda_gpu_executor.cc:975] successful NUMA node read from SysFS had negative value (-1), but there must be at least one NUMA node, so returning NUMA node zero\n",
      "2022-11-14 11:58:31.079136: I tensorflow/stream_executor/cuda/cuda_gpu_executor.cc:975] successful NUMA node read from SysFS had negative value (-1), but there must be at least one NUMA node, so returning NUMA node zero\n",
      "2022-11-14 11:58:31.079609: I tensorflow/stream_executor/cuda/cuda_gpu_executor.cc:975] successful NUMA node read from SysFS had negative value (-1), but there must be at least one NUMA node, so returning NUMA node zero\n",
      "2022-11-14 11:58:31.079749: I tensorflow/stream_executor/cuda/cuda_gpu_executor.cc:975] successful NUMA node read from SysFS had negative value (-1), but there must be at least one NUMA node, so returning NUMA node zero\n",
      "2022-11-14 11:58:31.079870: I tensorflow/stream_executor/cuda/cuda_gpu_executor.cc:975] successful NUMA node read from SysFS had negative value (-1), but there must be at least one NUMA node, so returning NUMA node zero\n",
      "2022-11-14 11:58:31.080037: I tensorflow/stream_executor/cuda/cuda_gpu_executor.cc:975] successful NUMA node read from SysFS had negative value (-1), but there must be at least one NUMA node, so returning NUMA node zero\n",
      "2022-11-14 11:58:31.080163: I tensorflow/stream_executor/cuda/cuda_gpu_executor.cc:975] successful NUMA node read from SysFS had negative value (-1), but there must be at least one NUMA node, so returning NUMA node zero\n",
      "2022-11-14 11:58:31.080255: I tensorflow/core/common_runtime/gpu/gpu_device.cc:1532] Created device /job:localhost/replica:0/task:0/device:GPU:0 with 7786 MB memory:  -> device: 0, name: NVIDIA GeForce RTX 3080, pci bus id: 0000:08:00.0, compute capability: 8.6\n"
     ]
    }
   ],
   "source": [
    "#EFFICIENTDET LITE 0\n",
    "#, 'autoaugment_policy' : policy_v0()\n",
    "spec = object_detector.EfficientDetSpec(\n",
    "    model_name = 'efficientdet-lite0',\n",
    "    uri = 'https://tfhub.dev/tensorflow/efficientdet/lite0/feature-vector/1',\n",
    "    hparams = {'max_instances_per_image' : 300, 'optimizer' : 'adam', 'learning_rate' : 0.001, 'lr_warmup_init' : 0.0008},\n",
    "    # hparams = {'max_instances_per_image' : 300, 'optimizer' : 'sgd', 'learning_rate' : 0.08, 'lr_warmup_init' : 0.008},\n",
    "    model_dir = './models',\n",
    "    epochs =15,\n",
    "    batch_size = 8,\n",
    "    steps_per_execution = 1,\n",
    "    moving_average_decay = 0,\n",
    "    var_freeze_expr = '(efficientnet|fpn_cells|resample_p6)',\n",
    "    tflite_max_detections = 100,\n",
    "    strategy = None,\n",
    "    tpu = None,\n",
    "    gcp_project = None,\n",
    "    tpu_zone = None,\n",
    "    use_xla = False,\n",
    "    profile = False,\n",
    "    debug = False,\n",
    "    tf_random_seed = 111111,\n",
    "    verbose = 0\n",
    ")"
   ]
  },
  {
   "cell_type": "code",
   "execution_count": null,
   "metadata": {
    "id": "--XwFABMRBuJ"
   },
   "outputs": [],
   "source": [
    "#EFFICIENTDET LITE 4\n",
    "\n",
    "spec = object_detector.EfficientDetSpec(\n",
    "    model_name = 'efficientdet-lite4',\n",
    "    uri = 'https://tfhub.dev/tensorflow/efficientdet/lite4/feature-vector/2',\n",
    "    # hparams = {'max_instances_per_image' : 300, 'optimizer' : 'adam', 'learning_rate' : 0.008, 'lr_warmup_init' : 0.0008},\n",
    "    # hparams = {'max_instances_per_image' : 300, 'optimizer' : 'sgd', 'learning_rate' : 0.08, 'lr_warmup_init' : 0.008},\n",
    "    hparams = {'max_instances_per_image' : 300},\n",
    "    model_dir = '/content/drive/MyDrive/modelDir.3_Aug',\n",
    "    epochs = 27,\n",
    "    batch_size = 8,\n",
    "    steps_per_execution = 1,\n",
    "    moving_average_decay = 0,\n",
    "    var_freeze_expr = '(efficientnet|fpn_cells|resample_p6)',\n",
    "    tflite_max_detections = 100,\n",
    "    strategy = None,\n",
    "    tpu = None,\n",
    "    gcp_project = None,\n",
    "    tpu_zone = None,\n",
    "    use_xla = False,\n",
    "    profile = False,\n",
    "    debug = False,\n",
    "    tf_random_seed = 111111,\n",
    "    verbose = 0\n",
    ")"
   ]
  },
  {
   "cell_type": "code",
   "execution_count": 8,
   "metadata": {},
   "outputs": [
    {
     "data": {
      "text/plain": [
       "(129591, 26104, 18636)"
      ]
     },
     "execution_count": 8,
     "metadata": {},
     "output_type": "execute_result"
    }
   ],
   "source": [
    "import pandas as pd\n",
    "df  = pd.read_csv(\"whole.csv\")\n",
    "(df.TRAIN == \"TRAIN\").sum(),(df.TRAIN == \"TEST\").sum(),(df.TRAIN == \"VALIDATION\").sum()"
   ]
  },
  {
   "cell_type": "code",
   "execution_count": 9,
   "metadata": {
    "id": "f18EwbF7R9jS"
   },
   "outputs": [],
   "source": [
    "#LOAD TRAIN, VALIDATION E TEST DATASET DO CSV\n",
    "\n",
    "#model_path_fix.csv\n",
    "#/content/drive/MyDrive/CSVs/\n",
    "\n",
    "train_data, validation_data, test_data = object_detector.DataLoader.from_csv('whole.csv')\n"
   ]
  },
  {
   "cell_type": "markdown",
   "metadata": {
    "id": "qtXuw50Fp3Ns"
   },
   "source": [
    "TREINAR MODELO"
   ]
  },
  {
   "cell_type": "code",
   "execution_count": null,
   "metadata": {
    "id": "ld2VmmLLSBcR"
   },
   "outputs": [
    {
     "name": "stdout",
     "output_type": "stream",
     "text": [
      "Epoch 1/15\n"
     ]
    },
    {
     "name": "stderr",
     "output_type": "stream",
     "text": [
      "2022-11-14 11:59:46.452025: W tensorflow/core/framework/cpu_allocator_impl.cc:82] Allocation of 36578304 exceeds 10% of free system memory.\n",
      "2022-11-14 11:59:46.455856: W tensorflow/core/framework/cpu_allocator_impl.cc:82] Allocation of 36578304 exceeds 10% of free system memory.\n",
      "2022-11-14 11:59:46.455933: W tensorflow/core/framework/cpu_allocator_impl.cc:82] Allocation of 36578304 exceeds 10% of free system memory.\n",
      "2022-11-14 11:59:46.463913: W tensorflow/core/framework/cpu_allocator_impl.cc:82] Allocation of 36578304 exceeds 10% of free system memory.\n",
      "2022-11-14 11:59:46.491554: W tensorflow/core/framework/cpu_allocator_impl.cc:82] Allocation of 36578304 exceeds 10% of free system memory.\n",
      "2022-11-14 11:59:48.921795: I tensorflow/stream_executor/cuda/cuda_dnn.cc:384] Loaded cuDNN version 8500\n"
     ]
    },
    {
     "name": "stdout",
     "output_type": "stream",
     "text": [
      "505/505 [==============================] - 88s 140ms/step - det_loss: 0.7178 - cls_loss: 0.3977 - box_loss: 0.0064 - reg_l2_loss: 0.0648 - loss: 0.7826 - learning_rate: 4.6250e-04 - gradient_norm: 1.2707 - val_det_loss: 0.4492 - val_cls_loss: 0.2916 - val_box_loss: 0.0032 - val_reg_l2_loss: 0.0641 - val_loss: 0.5133\n",
      "Epoch 2/15\n",
      "505/505 [==============================] - 71s 141ms/step - det_loss: 0.5592 - cls_loss: 0.3257 - box_loss: 0.0047 - reg_l2_loss: 0.0634 - loss: 0.6226 - learning_rate: 1.2137e-04 - gradient_norm: 1.1224 - val_det_loss: 0.4029 - val_cls_loss: 0.2534 - val_box_loss: 0.0030 - val_reg_l2_loss: 0.0626 - val_loss: 0.4655\n",
      "Epoch 3/15\n",
      "505/505 [==============================] - 70s 139ms/step - det_loss: 0.5210 - cls_loss: 0.3047 - box_loss: 0.0043 - reg_l2_loss: 0.0619 - loss: 0.5829 - learning_rate: 1.1531e-04 - gradient_norm: 1.1219 - val_det_loss: 0.4027 - val_cls_loss: 0.2539 - val_box_loss: 0.0030 - val_reg_l2_loss: 0.0611 - val_loss: 0.4638\n",
      "Epoch 4/15\n",
      "505/505 [==============================] - 70s 139ms/step - det_loss: 0.5143 - cls_loss: 0.3059 - box_loss: 0.0042 - reg_l2_loss: 0.0605 - loss: 0.5748 - learning_rate: 1.0660e-04 - gradient_norm: 1.1049 - val_det_loss: 0.3857 - val_cls_loss: 0.2381 - val_box_loss: 0.0030 - val_reg_l2_loss: 0.0599 - val_loss: 0.4456\n",
      "Epoch 5/15\n",
      "505/505 [==============================] - 94s 186ms/step - det_loss: 0.4996 - cls_loss: 0.2935 - box_loss: 0.0041 - reg_l2_loss: 0.0594 - loss: 0.5590 - learning_rate: 9.5682e-05 - gradient_norm: 1.1603 - val_det_loss: 0.3746 - val_cls_loss: 0.2328 - val_box_loss: 0.0028 - val_reg_l2_loss: 0.0589 - val_loss: 0.4335\n",
      "Epoch 6/15\n",
      "505/505 [==============================] - 70s 139ms/step - det_loss: 0.4822 - cls_loss: 0.2895 - box_loss: 0.0039 - reg_l2_loss: 0.0585 - loss: 0.5407 - learning_rate: 8.3099e-05 - gradient_norm: 1.2057 - val_det_loss: 0.3706 - val_cls_loss: 0.2317 - val_box_loss: 0.0028 - val_reg_l2_loss: 0.0581 - val_loss: 0.4287\n",
      "Epoch 7/15\n",
      "505/505 [==============================] - 71s 140ms/step - det_loss: 0.4691 - cls_loss: 0.2815 - box_loss: 0.0038 - reg_l2_loss: 0.0578 - loss: 0.5269 - learning_rate: 6.9483e-05 - gradient_norm: 1.1668 - val_det_loss: 0.3741 - val_cls_loss: 0.2339 - val_box_loss: 0.0028 - val_reg_l2_loss: 0.0575 - val_loss: 0.4315\n",
      "Epoch 8/15\n",
      "505/505 [==============================] - 71s 140ms/step - det_loss: 0.4689 - cls_loss: 0.2776 - box_loss: 0.0038 - reg_l2_loss: 0.0573 - loss: 0.5262 - learning_rate: 5.5517e-05 - gradient_norm: 1.2096 - val_det_loss: 0.3807 - val_cls_loss: 0.2318 - val_box_loss: 0.0030 - val_reg_l2_loss: 0.0571 - val_loss: 0.4378\n",
      "Epoch 9/15\n",
      "505/505 [==============================] - 71s 140ms/step - det_loss: 0.4593 - cls_loss: 0.2759 - box_loss: 0.0037 - reg_l2_loss: 0.0569 - loss: 0.5162 - learning_rate: 4.1901e-05 - gradient_norm: 1.2413 - val_det_loss: 0.3744 - val_cls_loss: 0.2315 - val_box_loss: 0.0029 - val_reg_l2_loss: 0.0567 - val_loss: 0.4311\n",
      "Epoch 10/15\n",
      "505/505 [==============================] - 92s 182ms/step - det_loss: 0.4519 - cls_loss: 0.2676 - box_loss: 0.0037 - reg_l2_loss: 0.0566 - loss: 0.5086 - learning_rate: 2.9318e-05 - gradient_norm: 1.2417 - val_det_loss: 0.3748 - val_cls_loss: 0.2326 - val_box_loss: 0.0028 - val_reg_l2_loss: 0.0565 - val_loss: 0.4313\n",
      "Epoch 11/15\n",
      "505/505 [==============================] - 71s 141ms/step - det_loss: 0.4396 - cls_loss: 0.2623 - box_loss: 0.0035 - reg_l2_loss: 0.0565 - loss: 0.4961 - learning_rate: 1.8399e-05 - gradient_norm: 1.2392 - val_det_loss: 0.3765 - val_cls_loss: 0.2337 - val_box_loss: 0.0029 - val_reg_l2_loss: 0.0564 - val_loss: 0.4329\n",
      "Epoch 12/15\n",
      "505/505 [==============================] - 71s 140ms/step - det_loss: 0.4406 - cls_loss: 0.2610 - box_loss: 0.0036 - reg_l2_loss: 0.0564 - loss: 0.4970 - learning_rate: 9.6912e-06 - gradient_norm: 1.2743 - val_det_loss: 0.3799 - val_cls_loss: 0.2340 - val_box_loss: 0.0029 - val_reg_l2_loss: 0.0563 - val_loss: 0.4363\n",
      "Epoch 13/15\n",
      "505/505 [==============================] - 71s 140ms/step - det_loss: 0.4368 - cls_loss: 0.2595 - box_loss: 0.0035 - reg_l2_loss: 0.0563 - loss: 0.4932 - learning_rate: 3.6315e-06 - gradient_norm: 1.2343 - val_det_loss: 0.3809 - val_cls_loss: 0.2349 - val_box_loss: 0.0029 - val_reg_l2_loss: 0.0563 - val_loss: 0.4372\n",
      "Epoch 14/15\n",
      "505/505 [==============================] - 71s 140ms/step - det_loss: 0.4310 - cls_loss: 0.2579 - box_loss: 0.0035 - reg_l2_loss: 0.0563 - loss: 0.4873 - learning_rate: 5.2373e-07 - gradient_norm: 1.2285 - val_det_loss: 0.3795 - val_cls_loss: 0.2342 - val_box_loss: 0.0029 - val_reg_l2_loss: 0.0563 - val_loss: 0.4358\n",
      "Epoch 15/15\n",
      "505/505 [==============================] - ETA: 0s - det_loss: 0.4380 - cls_loss: 0.2589 - box_loss: 0.0036 - reg_l2_loss: 0.0563 - loss: 0.4943 - learning_rate: 5.2166e-07 - gradient_norm: 1.2637"
     ]
    }
   ],
   "source": [
    "model = object_detector.create(train_data, model_spec = spec,\n",
    "                               train_whole_model      = True, \n",
    "                               validation_data        = validation_data)"
   ]
  },
  {
   "cell_type": "markdown",
   "metadata": {
    "id": "adx3Mwi3qCZ4"
   },
   "source": [
    "EXPORTAR PARA O DRIVE O MODELO .TFLITE"
   ]
  },
  {
   "cell_type": "code",
   "execution_count": 8,
   "metadata": {
    "colab": {
     "background_save": true
    },
    "id": "s7iiohhU9lQy"
   },
   "outputs": [
    {
     "name": "stderr",
     "output_type": "stream",
     "text": [
      "2022-11-14 09:35:17.474016: W tensorflow/core/common_runtime/graph_constructor.cc:805] Node 'resample_p7/PartitionedCall' has 1 outputs but the _output_shapes attribute specifies shapes for 3 outputs. Output shapes may be inaccurate.\n",
      "2022-11-14 09:35:21.507844: W tensorflow/compiler/mlir/lite/python/tf_tfl_flatbuffer_helpers.cc:362] Ignored output_format.\n",
      "2022-11-14 09:35:21.507865: W tensorflow/compiler/mlir/lite/python/tf_tfl_flatbuffer_helpers.cc:365] Ignored drop_control_dependency.\n",
      "2022-11-14 09:35:21.511588: I tensorflow/cc/saved_model/reader.cc:43] Reading SavedModel from: /tmp/tmpkisfe7yc\n",
      "2022-11-14 09:35:21.563597: I tensorflow/cc/saved_model/reader.cc:81] Reading meta graph with tags { serve }\n",
      "2022-11-14 09:35:21.563625: I tensorflow/cc/saved_model/reader.cc:122] Reading SavedModel debug info (if present) from: /tmp/tmpkisfe7yc\n",
      "2022-11-14 09:35:21.706191: I tensorflow/compiler/mlir/mlir_graph_optimization_pass.cc:354] MLIR V1 optimization pass is not enabled\n",
      "2022-11-14 09:35:21.773405: I tensorflow/cc/saved_model/loader.cc:228] Restoring SavedModel bundle.\n",
      "2022-11-14 09:35:22.944944: I tensorflow/cc/saved_model/loader.cc:212] Running initialization op on SavedModel bundle at path: /tmp/tmpkisfe7yc\n",
      "2022-11-14 09:35:23.390948: I tensorflow/cc/saved_model/loader.cc:301] SavedModel load for tags { serve }; Status: success: OK. Took 1879705 microseconds.\n",
      "2022-11-14 09:35:24.071908: I tensorflow/compiler/mlir/tensorflow/utils/dump_mlir_util.cc:263] disabling MLIR crash reproducer, set env var `MLIR_CRASH_REPRODUCER_DIRECTORY` to enable.\n",
      "2022-11-14 09:35:24.904290: I tensorflow/compiler/mlir/lite/flatbuffer_export.cc:1972] Estimated count of arithmetic ops: 1.752 G  ops, equivalently 0.876 G  MACs\n",
      "\n",
      "fully_quantize: 0, inference_type: 6, input_inference_type: 3, output_inference_type: 0\n",
      "2022-11-14 09:36:29.035037: I tensorflow/compiler/mlir/lite/flatbuffer_export.cc:1972] Estimated count of arithmetic ops: 1.752 G  ops, equivalently 0.876 G  MACs\n",
      "\n"
     ]
    }
   ],
   "source": [
    "model.export(export_dir='./')"
   ]
  },
  {
   "cell_type": "markdown",
   "metadata": {
    "id": "daWEK2ZBp95j"
   },
   "source": [
    "EVALUATE MODELO"
   ]
  },
  {
   "cell_type": "code",
   "execution_count": 9,
   "metadata": {
    "colab": {
     "background_save": true
    },
    "id": "B1jm14ouwA5l"
   },
   "outputs": [
    {
     "name": "stdout",
     "output_type": "stream",
     "text": [
      "82/82 [==============================] - 13s 107ms/step\n",
      "\n"
     ]
    },
    {
     "data": {
      "text/plain": [
       "{'AP': 0.2651132,\n",
       " 'AP50': 0.40475795,\n",
       " 'AP75': 0.3076818,\n",
       " 'APs': 0.0026710506,\n",
       " 'APm': 0.029486245,\n",
       " 'APl': 0.2893783,\n",
       " 'ARmax1': 0.015112392,\n",
       " 'ARmax10': 0.09580666,\n",
       " 'ARmax100': 0.32893372,\n",
       " 'ARs': 0.0575,\n",
       " 'ARm': 0.075758725,\n",
       " 'ARl': 0.3555416,\n",
       " 'AP_/log': 0.2651132}"
      ]
     },
     "execution_count": 9,
     "metadata": {},
     "output_type": "execute_result"
    }
   ],
   "source": [
    "model.evaluate(test_data)"
   ]
  },
  {
   "cell_type": "code",
   "execution_count": 6,
   "metadata": {},
   "outputs": [],
   "source": [
    "model = tf.lite.Interpreter(model_path = '0.0.1.tflite')"
   ]
  },
  {
   "cell_type": "code",
   "execution_count": 7,
   "metadata": {},
   "outputs": [
    {
     "ename": "AttributeError",
     "evalue": "'Interpreter' object has no attribute 'evaluate_tflite'",
     "output_type": "error",
     "traceback": [
      "\u001b[0;31m---------------------------------------------------------------------------\u001b[0m",
      "\u001b[0;31mAttributeError\u001b[0m                            Traceback (most recent call last)",
      "Input \u001b[0;32mIn [7]\u001b[0m, in \u001b[0;36m<cell line: 1>\u001b[0;34m()\u001b[0m\n\u001b[0;32m----> 1\u001b[0m \u001b[43mmodel\u001b[49m\u001b[38;5;241;43m.\u001b[39;49m\u001b[43mevaluate_tflite\u001b[49m(\u001b[38;5;124m'\u001b[39m\u001b[38;5;124m0.0.1.tflite\u001b[39m\u001b[38;5;124m'\u001b[39m, test_data)\n",
      "\u001b[0;31mAttributeError\u001b[0m: 'Interpreter' object has no attribute 'evaluate_tflite'"
     ]
    }
   ],
   "source": [
    "model.evaluate_tflite('0.0.1.tflite', test_data)"
   ]
  },
  {
   "cell_type": "markdown",
   "metadata": {
    "id": "t3-sy8c6qINt"
   },
   "source": [
    "EVALUATE MODELO .TFLITE"
   ]
  },
  {
   "cell_type": "code",
   "execution_count": 9,
   "metadata": {
    "id": "Cag5QPWE7L9f"
   },
   "outputs": [
    {
     "name": "stderr",
     "output_type": "stream",
     "text": [
      "INFO: Created TensorFlow Lite XNNPACK delegate for CPU.\n"
     ]
    },
    {
     "name": "stdout",
     "output_type": "stream",
     "text": [
      "656/656 [==============================] - 49s 75ms/step\n",
      "\n"
     ]
    },
    {
     "data": {
      "text/plain": [
       "{'AP': 0.2272087,\n",
       " 'AP50': 0.3638814,\n",
       " 'AP75': 0.2636988,\n",
       " 'APs': 0.010958656,\n",
       " 'APm': 0.023184728,\n",
       " 'APl': 0.24952143,\n",
       " 'ARmax1': 0.014874093,\n",
       " 'ARmax10': 0.09058899,\n",
       " 'ARmax100': 0.2935055,\n",
       " 'ARs': 0.05,\n",
       " 'ARm': 0.059559938,\n",
       " 'ARl': 0.31808284,\n",
       " 'AP_/log': 0.2272087}"
      ]
     },
     "execution_count": 9,
     "metadata": {},
     "output_type": "execute_result"
    }
   ],
   "source": [
    "model.evaluate_tflite('model.tflite', test_data)\n"
   ]
  },
  {
   "cell_type": "code",
   "execution_count": null,
   "metadata": {},
   "outputs": [],
   "source": [
    "#tflite 0\n",
    "'''\n",
    "{'AP': 0.2272087,\n",
    " 'AP50': 0.3638814,\n",
    " 'AP75': 0.2636988,\n",
    " 'APs': 0.010958656,\n",
    " 'APm': 0.023184728,\n",
    " 'APl': 0.24952143,\n",
    " 'ARmax1': 0.014874093,\n",
    " 'ARmax10': 0.09058899,\n",
    " 'ARmax100': 0.2935055,\n",
    " 'ARs': 0.05,\n",
    " 'ARm': 0.059559938,\n",
    " 'ARl': 0.31808284,\n",
    " 'AP_/log': 0.2272087}\n",
    "\n",
    "'''\n",
    "\n"
   ]
  },
  {
   "cell_type": "markdown",
   "metadata": {
    "id": "YpY49CszqRt2"
   },
   "source": [
    "ANALISAR GRÁFICOS COM TENSORBOARD"
   ]
  },
  {
   "cell_type": "code",
   "execution_count": 6,
   "metadata": {
    "executionInfo": {
     "elapsed": 3,
     "status": "ok",
     "timestamp": 1649346179602,
     "user": {
      "displayName": "Dev Pixlog",
      "userId": "08701028484598174434"
     },
     "user_tz": 180
    },
    "id": "G3YOEeuC6cxY"
   },
   "outputs": [
    {
     "name": "stdout",
     "output_type": "stream",
     "text": [
      "The tensorboard extension is already loaded. To reload it, use:\n",
      "  %reload_ext tensorboard\n"
     ]
    },
    {
     "data": {
      "text/html": [
       "\n",
       "      <iframe id=\"tensorboard-frame-9e6227e12c05226e\" width=\"100%\" height=\"800\" frameborder=\"0\">\n",
       "      </iframe>\n",
       "      <script>\n",
       "        (function() {\n",
       "          const frame = document.getElementById(\"tensorboard-frame-9e6227e12c05226e\");\n",
       "          const url = new URL(\"/\", window.location);\n",
       "          const port = 6007;\n",
       "          if (port) {\n",
       "            url.port = port;\n",
       "          }\n",
       "          frame.src = url;\n",
       "        })();\n",
       "      </script>\n",
       "    "
      ],
      "text/plain": [
       "<IPython.core.display.HTML object>"
      ]
     },
     "metadata": {},
     "output_type": "display_data"
    }
   ],
   "source": [
    "%load_ext tensorboard\n",
    "%tensorboard --logdir models/"
   ]
  }
 ],
 "metadata": {
  "accelerator": "GPU",
  "colab": {
   "background_execution": "on",
   "collapsed_sections": [],
   "machine_shape": "hm",
   "name": "pixlog.ipynb",
   "provenance": []
  },
  "kernelspec": {
   "display_name": "Python 3 (ipykernel)",
   "language": "python",
   "name": "python3"
  },
  "language_info": {
   "codemirror_mode": {
    "name": "ipython",
    "version": 3
   },
   "file_extension": ".py",
   "mimetype": "text/x-python",
   "name": "python",
   "nbconvert_exporter": "python",
   "pygments_lexer": "ipython3",
   "version": "3.8.13"
  }
 },
 "nbformat": 4,
 "nbformat_minor": 4
}
