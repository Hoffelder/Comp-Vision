{
 "cells": [
  {
   "cell_type": "code",
   "execution_count": 25,
   "id": "a3dd1da5-f184-4112-b837-4e0dc1ae967d",
   "metadata": {},
   "outputs": [],
   "source": [
    "import cv2\n",
    "import numpy as np\n",
    "import tensorflow as tf\n",
    "from model import Model\n",
    "import time\n",
    "import os\n",
    "import numpy as np\n",
    "import matplotlib.pyplot as plt\n",
    "import matplotlib.patches as patches\n",
    "import csv\n",
    "import random\n",
    "#from google.colab.patches import cv2_imshow\n",
    "\n",
    "import os \n",
    "import json "
   ]
  },
  {
   "cell_type": "code",
   "execution_count": 26,
   "id": "0e029ffd-c6ed-4f84-8e09-cda0e0a034da",
   "metadata": {},
   "outputs": [],
   "source": [
    "def draw_labels(labels,img,show = False):\n",
    "    \n",
    "    labels = np.array(labels).astype(int) \n",
    "    img = np.array(img).astype(np.uint8)  \n",
    "    h,w,c  = img.shape\n",
    "    for bb in labels:\n",
    "        if max(bb)<=1 and bb.shape[1]!=44:\n",
    "            y = (bb[[1,3,5,7]]*h).astype(int)\n",
    "            x = (bb[[0,2,4,6]]*w).astype(int)\n",
    "            cv2.rectangle(img,(x[0],y[0]),(x[1],y[2]),(0,255,0),2)\n",
    "        #if bb.shape[0] == 4:\n",
    "        #    bb_int = bb.astype(int)\n",
    "        #    cv2.rectangle(img,(bb_int[0],bb_int[1]),(bb_int[2],bb_int[3]),(0,255,0),2)\n",
    "        else:\n",
    "            y = (bb[[1,3]]).astype(int)\n",
    "            x = (bb[[0,2]]).astype(int)\n",
    "            cv2.rectangle(img,(x[0],y[0]),(x[1],y[1]),(0,255,0),2)\n",
    "        \n",
    "    if show:\n",
    "        plt.figure(figsize = (15,30))\n",
    "        plt.imshow(img)\n",
    "    \n",
    "    return img\n",
    "\n",
    "\n",
    "def read_json(path):\n",
    "    f = open(path)\n",
    "    data = json.load(f)\n",
    "    f.close()\n",
    "    return data\n",
    "\n",
    "\n",
    "def parse_labelme(data,img):\n",
    "    h,w,c = img.shape\n",
    "    points = []\n",
    "    \n",
    "    def clip(value,top):\n",
    "        return min(max(value,0),top)\n",
    "    \n",
    "    for shapes in data[\"shapes\"]:\n",
    "        x0,y0 = np.array(shapes[\"points\"])[0]\n",
    "        x1,y1 = np.array(shapes[\"points\"])[1]\n",
    "\n",
    "        if x0>x1:\n",
    "            x1,x0 = x0,x1 \n",
    "\n",
    "        if y0>y1:\n",
    "            y1,y0 = y0,y1 \n",
    "            \n",
    "        if x1 == x0 or y1 == y0:\n",
    "            continue\n",
    "\n",
    "        x1,x0,y1,y0 = clip(x1,w), clip(x0,w), clip(y1,h), clip(y0,h)\n",
    "        points.append([int(x0), int(y0), int(x1), int(y1)])\n",
    "    \n",
    "    return np.array(points)\n",
    "\n",
    "def labelme_to_tf(data,img):\n",
    "    h,w,c = img.shape\n",
    "    points = []\n",
    "    \n",
    "    def clip(value):\n",
    "        return min(max(value,0),1)\n",
    "    \n",
    "    for shapes in data[\"shapes\"]:\n",
    "        x0,y0 = np.array(shapes[\"points\"])[0]\n",
    "        x1,y1 = np.array(shapes[\"points\"])[1]\n",
    "        \n",
    "        if x0>x1:\n",
    "            x1,x0 = x0,x1 \n",
    "        \n",
    "        if y0>y1:\n",
    "            y1,y0 = y0,y1 \n",
    "        \n",
    "        x1,x0,y1,y0 = clip(x1),clip(x0),clip(y1),clip(y0)\n",
    "        \n",
    "        if x1 == x0 or y1 == y0:\n",
    "            continue\n",
    "        \n",
    "        points.append([x0/w, y0/h,  x1/w, y0/h, x1/w, y1/h, x0/w, y1/h])\n",
    "        \n",
    "    return np.array(points)\n",
    "    \n",
    "    \n",
    "def proportion_to_pixel(img,labels):\n",
    "    h,w,c  = img.shape\n",
    "    bb = []\n",
    "    for proportional_bb in labels:\n",
    "        #pix_bb = proportional_bb.copy()\n",
    "        \n",
    "        y = (proportional_bb[[1,3,5,7]]*h).astype(int)\n",
    "        x = (proportional_bb[[0,2,4,6]]*w).astype(int)\n",
    "        x_min, y_min, x_max, y_max = x[0],y[0],x[1],y[2]\n",
    "        \n",
    "        bb+=[[x_min, y_min, x_max, y_max]]\n",
    "        \n",
    "    return np.array(bb)\n",
    "        \n",
    "def pixel_to_proportion(img,labels):\n",
    "    h,w,c  = img.shape\n",
    "    bb = []\n",
    "    for proportional_bb in labels:\n",
    "        \n",
    "        #pix_bb = proportional_bb.copy()\n",
    "        #print(\"H\",h,\"W\",w,\"proportional_bb\",proportional_bb)\n",
    "        \n",
    "        y = proportional_bb.astype(np.float32)[[0,2]]/h\n",
    "        \n",
    "        x = proportional_bb.astype(np.float32)[[0,2]]/w\n",
    "        \n",
    "\n",
    "        \n",
    "        #print(x,y)\n",
    "        \n",
    "        x_min, y_min, x_max, y_max = x[0],y[0],x[1],y[1]\n",
    "        \n",
    "        if x_min == x_max or y_max == y_min:\n",
    "            continue\n",
    "        \n",
    "        bb+=[[x_min, y_min, x_max, y_max]]\n",
    "        \n",
    "    return np.array(bb)\n",
    "    \n",
    "\n",
    "\n"
   ]
  },
  {
   "cell_type": "code",
   "execution_count": 27,
   "id": "20a28955-f90b-47aa-988f-d6d9c509f94d",
   "metadata": {},
   "outputs": [],
   "source": [
    "import albumentations as A\n",
    "\n",
    "class Crop:\n",
    "    def __init__(self,crop_proportions = None):\n",
    "        self.iters = 0\n",
    "        \n",
    "        if crop_proportions is None:\n",
    "            self.crop_proportions     = [0.6]\n",
    "            \n",
    "    def apply(self,img,bboxes,previous_transforms):\n",
    "        h,w,c  = img.shape\n",
    "        self.crops = {}\n",
    "        \n",
    "        for proportion in self.crop_proportions :\n",
    "\n",
    "            visibility = 1 if proportion < 0.22 else 0.94 \n",
    "\n",
    "            self.crops[str(round(proportion,3))] = A.Compose([\n",
    "                A.RandomCrop(width=int(h*proportion), height=int(h*proportion))\n",
    "            ],bbox_params = A.BboxParams(format='pascal_voc', min_visibility=0.5, label_fields=[]))\n",
    "\n",
    "        \n",
    "        \n",
    "        transformations = {}\n",
    "        \n",
    "        for proportion,crop in self.crops.items():\n",
    "\n",
    "            croped = crop(image=img, bboxes=bboxes)\n",
    "            \n",
    "            \n",
    "            tries = 0\n",
    "            while len(croped[\"bboxes\"])<3 and tries <= 200:\n",
    "                croped = crop(image=img, bboxes=bboxes)\n",
    "                tries+=1\n",
    "                #print(len(croped[\"bboxes\"]),\"tries \",tries)\n",
    "            \n",
    "            if tries==201:\n",
    "                print(\"crop tries exceed 200\")\n",
    "                continue\n",
    "            #print(len(croped[\"bboxes\"]))\n",
    "                \n",
    "            transformations[previous_transforms+\"+crop:v\"+str(self.iters)+\"-p\"+str(proportion)] = {\"image\":croped[\"image\"],\"bboxes\":croped[\"bboxes\"]}\n",
    "                \n",
    "            self.iters+=1\n",
    "            \n",
    "        return transformations\n",
    "            "
   ]
  },
  {
   "cell_type": "code",
   "execution_count": 28,
   "id": "5e4185c0-595b-4189-8c56-b5c513292e2b",
   "metadata": {},
   "outputs": [],
   "source": [
    "def padding_img(img):\n",
    "    h,w,c = img.shape\n",
    "    h0 = int((h-w)/2)\n",
    "    hf = int(h0+w)\n",
    "    delta = abs(h-w)\n",
    "    if h>w:\n",
    "        w = h\n",
    "    else:\n",
    "        h = w    \n",
    "    mock = np.zeros((h,w,c))\n",
    "    mock[int(delta/2):int(w-delta/2),:,:] = img\n",
    "\n",
    "    detection_frame        = cv2.resize(mock, (320,320), interpolation = cv2.INTER_AREA)\n",
    "    detection_frame        = np.expand_dims(detection_frame,axis=0).astype(np.uint8)\n",
    "    return detection_frame\n",
    "\n",
    "def reshape(img):\n",
    "    detection_frame        = cv2.resize(img, (320,320), interpolation = cv2.INTER_AREA)\n",
    "    detection_frame        = np.expand_dims(detection_frame,axis=0).astype(np.uint8)\n",
    "    return detection_frame\n"
   ]
  },
  {
   "cell_type": "code",
   "execution_count": 29,
   "id": "ea1855a8-0cd2-4783-b73e-f33ea370bc38",
   "metadata": {},
   "outputs": [],
   "source": [
    "def draw_detection(boxes, classes, scores,mock,threshold=0.5,color = 'r'):\n",
    "    h,w,c = mock.shape\n",
    "    \n",
    "    color = (255,0,0) if color == 'r' else (0,0,255)\n",
    "    size  =  2 if color == 'r' else 10\n",
    "    \n",
    "    for bb,c,s in zip(boxes, classes, scores):\n",
    "        if s>threshold:\n",
    "\n",
    "            '''\n",
    "            x0,y0 ------\n",
    "            |          |\n",
    "            |          |\n",
    "            |          |\n",
    "            --------x1,y1\n",
    "            '''\n",
    "            \n",
    "            y0 = int(bb[0]*h)\n",
    "            x0 = int(bb[1]*w)\n",
    "            y1 = int(bb[2]*h)           \n",
    "            x1 = int(bb[3]*w)  \n",
    "            \n",
    "\n",
    "            xc = abs(int(x0 + abs(x1-x0)/2)) \n",
    "            yc = abs(int(y0 + abs(y1-y0)/2))\n",
    "            r  = max(int(abs(y1-y0)/2),int(abs(x1-x0)/2)) \n",
    "            Xc = xc\n",
    "            Yc = yc\n",
    "            \n",
    "            \n",
    "            mock = cv2.circle(mock, (xc,yc), r , color, 3)\n",
    "    return mock\n",
    "\n",
    "def get_label_boxes(img,bboxes):\n",
    "\n",
    "    boxes = []\n",
    "    h,w,c = img.shape\n",
    "    for bb in bboxes:\n",
    "        x0 = float(bb[0]/h)\n",
    "        y0 = float(bb[1]/w)\n",
    "        x1 = float(bb[2]/h)           \n",
    "        y1 = float(bb[3]/w)\n",
    "        boxes.append((y0,x0,y1,x1))\n",
    "\n",
    "    bboxes    = np.array(boxes)\n",
    "    scores    = np.array([1]*bboxes.shape[0])\n",
    "    \n",
    "    return bboxes,scores\n",
    "\n",
    "\n",
    "def get_centers(boxes):\n",
    "    centers = []\n",
    "    for bb in boxes:\n",
    "\n",
    "        x0 = float(bb[0])\n",
    "        y0 = float(bb[1])\n",
    "        x1 = float(bb[2])           \n",
    "        y1 = float(bb[3])\n",
    "        \n",
    "        xc = round(abs((x0 + abs(x1-x0)/2)),4) \n",
    "        yc = round(abs((y0 + abs(y1-y0)/2)),4)\n",
    "\n",
    "        centers.append((xc,yc))\n",
    "\n",
    "    return np.array(centers)"
   ]
  },
  {
   "cell_type": "code",
   "execution_count": 30,
   "id": "1dd36048-5b9d-407c-90e0-b83418c45c30",
   "metadata": {},
   "outputs": [],
   "source": [
    "def bb_intersection_over_union(boxA, boxB):\n",
    "    \n",
    "\t# determine the (x, y)-coordinates of the intersection rectangle\n",
    "\txA = max(boxA[0], boxB[0])\n",
    "\tyA = max(boxA[1], boxB[1])\n",
    "\txB = min(boxA[2], boxB[2])\n",
    "\tyB = min(boxA[3], boxB[3])\n",
    "\t# compute the area of intersection rectangle\n",
    "\tinterArea = max(0, xB - xA + 1) * max(0, yB - yA + 1)\n",
    "\t# compute the area of both the prediction and ground-truth\n",
    "\t# rectangles\n",
    "\tboxAArea = (boxA[2] - boxA[0] + 1) * (boxA[3] - boxA[1] + 1)\n",
    "\tboxBArea = (boxB[2] - boxB[0] + 1) * (boxB[3] - boxB[1] + 1)\n",
    "\t# compute the intersection over union by taking the intersection\n",
    "\t# area and dividing it by the sum of prediction + ground-truth\n",
    "\t# areas - the interesection area\n",
    "\tiou = interArea / float(boxAArea + boxBArea - interArea)\n",
    "\t# return the intersection over union value\n",
    "\treturn iou"
   ]
  },
  {
   "cell_type": "code",
   "execution_count": 31,
   "id": "b0eb5a08-6cb7-4428-8f54-b8f21045d9f8",
   "metadata": {},
   "outputs": [],
   "source": [
    "def get_IoUs(detection_boxes,scores,label_bboxes,threshold = 0.5):\n",
    "\n",
    "    center_det    = get_centers(detection_boxes[scores>threshold])\n",
    "    center_labels = get_centers(label_bboxes)\n",
    "    distances     = np.zeros((center_labels.shape[0],center_det.shape[0]))\n",
    "\n",
    "    for i, det_c in enumerate(center_det):\n",
    "        for j,label_c in enumerate(center_labels):\n",
    "            distances[j,i] = round((((label_c[0]-det_c[0])**2+(label_c[1]-det_c[1])**2)**0.5),3)\n",
    "\n",
    "    matches = np.argwhere(distances<0.02)\n",
    "\n",
    "    IoUs = []\n",
    "    for m in matches:\n",
    "        label_index,d_index = m\n",
    "        IoU = bb_intersection_over_union(detection_boxes[d_index],label_bboxes[label_index])\n",
    "        IoUs.append(IoU)\n",
    "    \n",
    "    mean_IoU = sum(IoUs)/len(IoUs) if len(IoUs)> 0 else 0\n",
    "    detection_accuracy = max(1 - abs(len(detection_boxes[scores>threshold])-len(label_bboxes))/len(label_bboxes),0)\n",
    "    \n",
    "    return mean_IoU,detection_accuracy"
   ]
  },
  {
   "cell_type": "code",
   "execution_count": 103,
   "id": "1abee4d2-74f6-48cd-a5ce-8494ca1a4cd3",
   "metadata": {},
   "outputs": [
    {
     "name": "stderr",
     "output_type": "stream",
     "text": [
      "  0%|                                                   | 0/348 [00:07<?, ?it/s]"
     ]
    },
    {
     "name": "stdout",
     "output_type": "stream",
     "text": [
      "[0.95720229 0.95720229 0.95720229 0.95720229 0.95720229 0.95720229\n",
      " 0.95720229 0.95720229 0.95720229 0.95720229 0.95720229 0.95720229\n",
      " 0.95720229 0.95600531 0.95569699 0.95655751 0.95414722 0.95414722\n",
      " 0.95369413 0.95285729 0.95160313 0.9505577  0.9505577  0.95115082\n",
      " 0.9539686  0.9539686  0.9539686  0.9539686  0.9539686  0.94463912\n",
      " 0.94463912 0.93128453 0.93128453 0.93128453 0.93128453 0.\n",
      " 0.         0.         0.         0.         0.         0.\n",
      " 0.         0.         0.         0.         0.         0.\n",
      " 0.         0.        ]\n"
     ]
    },
    {
     "name": "stderr",
     "output_type": "stream",
     "text": [
      "\n",
      "/tmp/ipykernel_13583/3564088855.py:119: RuntimeWarning: Mean of empty slice.\n",
      "  plt.plot(tresholds,np.array(all_ious).mean(axis = 0),c= 'r')\n",
      "/home/pixlog/install/enviroments/train/lib/python3.8/site-packages/numpy/core/_methods.py:190: RuntimeWarning: invalid value encountered in double_scalars\n",
      "  ret = ret.dtype.type(ret / rcount)\n"
     ]
    },
    {
     "ename": "ValueError",
     "evalue": "x and y must have same first dimension, but have shapes (50,) and (1,)",
     "output_type": "error",
     "traceback": [
      "\u001b[0;31m---------------------------------------------------------------------------\u001b[0m",
      "\u001b[0;31mValueError\u001b[0m                                Traceback (most recent call last)",
      "Input \u001b[0;32mIn [103]\u001b[0m, in \u001b[0;36m<cell line: 119>\u001b[0;34m()\u001b[0m\n\u001b[1;32m    115\u001b[0m     all_ious\u001b[38;5;241m.\u001b[39mappend(IoUs)\n\u001b[1;32m    116\u001b[0m     all_dets\u001b[38;5;241m.\u001b[39mappend(dets)\n\u001b[0;32m--> 119\u001b[0m \u001b[43mplt\u001b[49m\u001b[38;5;241;43m.\u001b[39;49m\u001b[43mplot\u001b[49m\u001b[43m(\u001b[49m\u001b[43mtresholds\u001b[49m\u001b[43m,\u001b[49m\u001b[43mnp\u001b[49m\u001b[38;5;241;43m.\u001b[39;49m\u001b[43marray\u001b[49m\u001b[43m(\u001b[49m\u001b[43mall_ious\u001b[49m\u001b[43m)\u001b[49m\u001b[38;5;241;43m.\u001b[39;49m\u001b[43mmean\u001b[49m\u001b[43m(\u001b[49m\u001b[43maxis\u001b[49m\u001b[43m \u001b[49m\u001b[38;5;241;43m=\u001b[39;49m\u001b[43m \u001b[49m\u001b[38;5;241;43m0\u001b[39;49m\u001b[43m)\u001b[49m\u001b[43m,\u001b[49m\u001b[43mc\u001b[49m\u001b[38;5;241;43m=\u001b[39;49m\u001b[43m \u001b[49m\u001b[38;5;124;43m'\u001b[39;49m\u001b[38;5;124;43mr\u001b[39;49m\u001b[38;5;124;43m'\u001b[39;49m\u001b[43m)\u001b[49m\n\u001b[1;32m    120\u001b[0m plt\u001b[38;5;241m.\u001b[39mplot(tresholds,np\u001b[38;5;241m.\u001b[39marray(all_dets)\u001b[38;5;241m.\u001b[39mmean(axis \u001b[38;5;241m=\u001b[39m \u001b[38;5;241m0\u001b[39m),c\u001b[38;5;241m=\u001b[39m \u001b[38;5;124m'\u001b[39m\u001b[38;5;124mblack\u001b[39m\u001b[38;5;124m'\u001b[39m)\n",
      "File \u001b[0;32m~/install/enviroments/train/lib/python3.8/site-packages/matplotlib/pyplot.py:2761\u001b[0m, in \u001b[0;36mplot\u001b[0;34m(scalex, scaley, data, *args, **kwargs)\u001b[0m\n\u001b[1;32m   2759\u001b[0m \u001b[38;5;129m@docstring\u001b[39m\u001b[38;5;241m.\u001b[39mcopy(Axes\u001b[38;5;241m.\u001b[39mplot)\n\u001b[1;32m   2760\u001b[0m \u001b[38;5;28;01mdef\u001b[39;00m \u001b[38;5;21mplot\u001b[39m(\u001b[38;5;241m*\u001b[39margs, scalex\u001b[38;5;241m=\u001b[39m\u001b[38;5;28;01mTrue\u001b[39;00m, scaley\u001b[38;5;241m=\u001b[39m\u001b[38;5;28;01mTrue\u001b[39;00m, data\u001b[38;5;241m=\u001b[39m\u001b[38;5;28;01mNone\u001b[39;00m, \u001b[38;5;241m*\u001b[39m\u001b[38;5;241m*\u001b[39mkwargs):\n\u001b[0;32m-> 2761\u001b[0m     \u001b[38;5;28;01mreturn\u001b[39;00m \u001b[43mgca\u001b[49m\u001b[43m(\u001b[49m\u001b[43m)\u001b[49m\u001b[38;5;241;43m.\u001b[39;49m\u001b[43mplot\u001b[49m\u001b[43m(\u001b[49m\n\u001b[1;32m   2762\u001b[0m \u001b[43m        \u001b[49m\u001b[38;5;241;43m*\u001b[39;49m\u001b[43margs\u001b[49m\u001b[43m,\u001b[49m\u001b[43m \u001b[49m\u001b[43mscalex\u001b[49m\u001b[38;5;241;43m=\u001b[39;49m\u001b[43mscalex\u001b[49m\u001b[43m,\u001b[49m\u001b[43m \u001b[49m\u001b[43mscaley\u001b[49m\u001b[38;5;241;43m=\u001b[39;49m\u001b[43mscaley\u001b[49m\u001b[43m,\u001b[49m\u001b[43m \u001b[49m\u001b[38;5;241;43m*\u001b[39;49m\u001b[38;5;241;43m*\u001b[39;49m\u001b[43m(\u001b[49m\u001b[43m{\u001b[49m\u001b[38;5;124;43m\"\u001b[39;49m\u001b[38;5;124;43mdata\u001b[39;49m\u001b[38;5;124;43m\"\u001b[39;49m\u001b[43m:\u001b[49m\u001b[43m \u001b[49m\u001b[43mdata\u001b[49m\u001b[43m}\u001b[49m\u001b[43m \u001b[49m\u001b[38;5;28;43;01mif\u001b[39;49;00m\u001b[43m \u001b[49m\u001b[43mdata\u001b[49m\n\u001b[1;32m   2763\u001b[0m \u001b[43m        \u001b[49m\u001b[38;5;129;43;01mis\u001b[39;49;00m\u001b[43m \u001b[49m\u001b[38;5;129;43;01mnot\u001b[39;49;00m\u001b[43m \u001b[49m\u001b[38;5;28;43;01mNone\u001b[39;49;00m\u001b[43m \u001b[49m\u001b[38;5;28;43;01melse\u001b[39;49;00m\u001b[43m \u001b[49m\u001b[43m{\u001b[49m\u001b[43m}\u001b[49m\u001b[43m)\u001b[49m\u001b[43m,\u001b[49m\u001b[43m \u001b[49m\u001b[38;5;241;43m*\u001b[39;49m\u001b[38;5;241;43m*\u001b[39;49m\u001b[43mkwargs\u001b[49m\u001b[43m)\u001b[49m\n",
      "File \u001b[0;32m~/install/enviroments/train/lib/python3.8/site-packages/matplotlib/axes/_axes.py:1647\u001b[0m, in \u001b[0;36mAxes.plot\u001b[0;34m(self, scalex, scaley, data, *args, **kwargs)\u001b[0m\n\u001b[1;32m   1416\u001b[0m \u001b[38;5;124;03m\"\"\"\u001b[39;00m\n\u001b[1;32m   1417\u001b[0m \u001b[38;5;124;03mPlot y versus x as lines and/or markers.\u001b[39;00m\n\u001b[1;32m   1418\u001b[0m \n\u001b[0;32m   (...)\u001b[0m\n\u001b[1;32m   1644\u001b[0m \u001b[38;5;124;03m(``'green'``) or hex strings (``'#008000'``).\u001b[39;00m\n\u001b[1;32m   1645\u001b[0m \u001b[38;5;124;03m\"\"\"\u001b[39;00m\n\u001b[1;32m   1646\u001b[0m kwargs \u001b[38;5;241m=\u001b[39m cbook\u001b[38;5;241m.\u001b[39mnormalize_kwargs(kwargs, mlines\u001b[38;5;241m.\u001b[39mLine2D)\n\u001b[0;32m-> 1647\u001b[0m lines \u001b[38;5;241m=\u001b[39m [\u001b[38;5;241m*\u001b[39m\u001b[38;5;28mself\u001b[39m\u001b[38;5;241m.\u001b[39m_get_lines(\u001b[38;5;241m*\u001b[39margs, data\u001b[38;5;241m=\u001b[39mdata, \u001b[38;5;241m*\u001b[39m\u001b[38;5;241m*\u001b[39mkwargs)]\n\u001b[1;32m   1648\u001b[0m \u001b[38;5;28;01mfor\u001b[39;00m line \u001b[38;5;129;01min\u001b[39;00m lines:\n\u001b[1;32m   1649\u001b[0m     \u001b[38;5;28mself\u001b[39m\u001b[38;5;241m.\u001b[39madd_line(line)\n",
      "File \u001b[0;32m~/install/enviroments/train/lib/python3.8/site-packages/matplotlib/axes/_base.py:216\u001b[0m, in \u001b[0;36m_process_plot_var_args.__call__\u001b[0;34m(self, *args, **kwargs)\u001b[0m\n\u001b[1;32m    214\u001b[0m     this \u001b[38;5;241m+\u001b[39m\u001b[38;5;241m=\u001b[39m args[\u001b[38;5;241m0\u001b[39m],\n\u001b[1;32m    215\u001b[0m     args \u001b[38;5;241m=\u001b[39m args[\u001b[38;5;241m1\u001b[39m:]\n\u001b[0;32m--> 216\u001b[0m \u001b[38;5;28;01myield from\u001b[39;00m \u001b[38;5;28;43mself\u001b[39;49m\u001b[38;5;241;43m.\u001b[39;49m\u001b[43m_plot_args\u001b[49m\u001b[43m(\u001b[49m\u001b[43mthis\u001b[49m\u001b[43m,\u001b[49m\u001b[43m \u001b[49m\u001b[43mkwargs\u001b[49m\u001b[43m)\u001b[49m\n",
      "File \u001b[0;32m~/install/enviroments/train/lib/python3.8/site-packages/matplotlib/axes/_base.py:342\u001b[0m, in \u001b[0;36m_process_plot_var_args._plot_args\u001b[0;34m(self, tup, kwargs)\u001b[0m\n\u001b[1;32m    339\u001b[0m     \u001b[38;5;28mself\u001b[39m\u001b[38;5;241m.\u001b[39maxes\u001b[38;5;241m.\u001b[39myaxis\u001b[38;5;241m.\u001b[39mupdate_units(y)\n\u001b[1;32m    341\u001b[0m \u001b[38;5;28;01mif\u001b[39;00m x\u001b[38;5;241m.\u001b[39mshape[\u001b[38;5;241m0\u001b[39m] \u001b[38;5;241m!=\u001b[39m y\u001b[38;5;241m.\u001b[39mshape[\u001b[38;5;241m0\u001b[39m]:\n\u001b[0;32m--> 342\u001b[0m     \u001b[38;5;28;01mraise\u001b[39;00m \u001b[38;5;167;01mValueError\u001b[39;00m(\u001b[38;5;124mf\u001b[39m\u001b[38;5;124m\"\u001b[39m\u001b[38;5;124mx and y must have same first dimension, but \u001b[39m\u001b[38;5;124m\"\u001b[39m\n\u001b[1;32m    343\u001b[0m                      \u001b[38;5;124mf\u001b[39m\u001b[38;5;124m\"\u001b[39m\u001b[38;5;124mhave shapes \u001b[39m\u001b[38;5;132;01m{\u001b[39;00mx\u001b[38;5;241m.\u001b[39mshape\u001b[38;5;132;01m}\u001b[39;00m\u001b[38;5;124m and \u001b[39m\u001b[38;5;132;01m{\u001b[39;00my\u001b[38;5;241m.\u001b[39mshape\u001b[38;5;132;01m}\u001b[39;00m\u001b[38;5;124m\"\u001b[39m)\n\u001b[1;32m    344\u001b[0m \u001b[38;5;28;01mif\u001b[39;00m x\u001b[38;5;241m.\u001b[39mndim \u001b[38;5;241m>\u001b[39m \u001b[38;5;241m2\u001b[39m \u001b[38;5;129;01mor\u001b[39;00m y\u001b[38;5;241m.\u001b[39mndim \u001b[38;5;241m>\u001b[39m \u001b[38;5;241m2\u001b[39m:\n\u001b[1;32m    345\u001b[0m     \u001b[38;5;28;01mraise\u001b[39;00m \u001b[38;5;167;01mValueError\u001b[39;00m(\u001b[38;5;124mf\u001b[39m\u001b[38;5;124m\"\u001b[39m\u001b[38;5;124mx and y can be no greater than 2-D, but have \u001b[39m\u001b[38;5;124m\"\u001b[39m\n\u001b[1;32m    346\u001b[0m                      \u001b[38;5;124mf\u001b[39m\u001b[38;5;124m\"\u001b[39m\u001b[38;5;124mshapes \u001b[39m\u001b[38;5;132;01m{\u001b[39;00mx\u001b[38;5;241m.\u001b[39mshape\u001b[38;5;132;01m}\u001b[39;00m\u001b[38;5;124m and \u001b[39m\u001b[38;5;132;01m{\u001b[39;00my\u001b[38;5;241m.\u001b[39mshape\u001b[38;5;132;01m}\u001b[39;00m\u001b[38;5;124m\"\u001b[39m)\n",
      "\u001b[0;31mValueError\u001b[0m: x and y must have same first dimension, but have shapes (50,) and (1,)"
     ]
    },
    {
     "data": {
      "image/png": "[encoded data removed]",
      "text/plain": [
       "<Figure size 432x288 with 1 Axes>"
      ]
     },
     "metadata": {
      "needs_background": "light"
     },
     "output_type": "display_data"
    }
   ],
   "source": [
    "import pandas as pd\n",
    "import cv2\n",
    "import numpy as np\n",
    "import tensorflow as tf\n",
    "import time\n",
    "import os\n",
    "import numpy as np\n",
    "import matplotlib.pyplot as plt\n",
    "import matplotlib.patches as patches\n",
    "import csv\n",
    "import random\n",
    "import os \n",
    "import json \n",
    "\n",
    "from model import Model\n",
    "\n",
    "def reshape(img):\n",
    "    detection_frame        = cv2.resize(img, (320,320), interpolation = cv2.INTER_AREA)\n",
    "    detection_frame        = np.expand_dims(detection_frame,axis=0).astype(np.uint8)\n",
    "    return detection_frame\n",
    "\n",
    "def bb_intersection_over_union(boxA, boxB):\n",
    "    \n",
    "\t# determine the (x, y)-coordinates of the intersection rectangle\n",
    "\txA = max(boxA[0], boxB[0])\n",
    "\tyA = max(boxA[1], boxB[1])\n",
    "\txB = min(boxA[2], boxB[2])\n",
    "\tyB = min(boxA[3], boxB[3])\n",
    "\t# compute the area of intersection rectangle\n",
    "\tinterArea = max(0, xB - xA + 1) * max(0, yB - yA + 1)\n",
    "\t# compute the area of both the prediction and ground-truth\n",
    "\t# rectangles\n",
    "\tboxAArea = (boxA[2] - boxA[0] + 1) * (boxA[3] - boxA[1] + 1)\n",
    "\tboxBArea = (boxB[2] - boxB[0] + 1) * (boxB[3] - boxB[1] + 1)\n",
    "\t# compute the intersection over union by taking the intersection\n",
    "\t# area and dividing it by the sum of prediction + ground-truth\n",
    "\t# areas - the interesection area\n",
    "\tiou = interArea / float(boxAArea + boxBArea - interArea)\n",
    "\t# return the intersection over union value\n",
    "\treturn iou\n",
    "\n",
    "def get_IoUs(detection_boxes,scores,label_bboxes,threshold = 0.5):\n",
    "\n",
    "    center_det    = get_centers(detection_boxes[scores>threshold])\n",
    "    center_labels = get_centers(label_bboxes)\n",
    "    distances     = np.zeros((center_labels.shape[0],center_det.shape[0]))\n",
    "\n",
    "    for i, det_c in enumerate(center_det):\n",
    "        for j,label_c in enumerate(center_labels):\n",
    "            distances[j,i] = round((((label_c[0]-det_c[0])**2+(label_c[1]-det_c[1])**2)**0.5),3)\n",
    "\n",
    "    matches = np.argwhere(distances<0.02)\n",
    "\n",
    "    IoUs = []\n",
    "    for m in matches:\n",
    "        label_index,d_index = m\n",
    "        IoU = bb_intersection_over_union(detection_boxes[d_index],label_bboxes[label_index])\n",
    "        IoUs.append(IoU)\n",
    "    \n",
    "    mean_IoU = sum(IoUs)/len(IoUs) if len(IoUs)> 0 else 0\n",
    "    detection_accuracy = max(1 - abs(len(detection_boxes[scores>threshold])-len(label_bboxes))/len(label_bboxes),0)\n",
    "    \n",
    "    return mean_IoU,detection_accuracy\n",
    "\n",
    "def get_labels(df,path):\n",
    "    labels = df[df.iloc[:,1] == path].iloc[:,3:]\n",
    "    y      = (np.array(labels)[:,[1,3,5,7]])\n",
    "    x      = (np.array(labels)[:,[0,2,4,6]])\n",
    "    x_min  = x[:,0].reshape(-1,1) \n",
    "    y_min  = y[:,0].reshape(-1,1)\n",
    "    x_max  = x[:,1].reshape(-1,1)\n",
    "    y_max  = y[:,2].reshape(-1,1)\n",
    "    bboxes = np.concatenate([x_min, y_min, x_max, y_max],axis = 1)\n",
    "    scores = np.array([1]*len(arr))\n",
    "    return bboxes,scores\n",
    "\n",
    "def get_metrics(detection_frame,model):\n",
    "    \n",
    "    detection_boxes, classes, scores = model.predict(detection_frame)\n",
    "\n",
    "    IoUs = []\n",
    "    dets = []\n",
    "    tresholds = []\n",
    "    for t in np.linspace(0,1,50):\n",
    "        IoU,det = get_IoUs(detection_boxes,scores,label_bboxes,threshold = t)\n",
    "        IoUs.append(IoU)\n",
    "        dets.append(det)\n",
    "        tresholds.append(t)\n",
    "        #metrics.append((t,IoU,det))\n",
    "\n",
    "    return np.array(IoUs), np.array(dets), np.array(tresholds)\n",
    "\n",
    "\n",
    "model         = Model(\"models/weights/0.0.1.tflite\")\n",
    "df            = pd.read_csv(\"whole.csv\")\n",
    "validation_df = df[df.iloc[:,0] == \"VALIDATION\"]\n",
    "paths         = validation_df.iloc[:,1].unique().tolist()\n",
    "all_ious      = []\n",
    "all_dets      = []\n",
    "\n",
    "for path in tqdm(paths):\n",
    "\n",
    "    image_path = path\n",
    "    root       = label_paths.replace(\".json\",\"\").replace(\"/\",\"_\")\n",
    "    \n",
    "    img              = cv2.imread(image_path)[:,:,::-1]\n",
    "    bboxes,scores    = get_labels(df,path)\n",
    "    detection_frame  = reshape(img)\n",
    "    \n",
    "    label_bboxes,label_scores = get_labels(df,path)\n",
    "    IoUs,dets,tresholds       = get_metrics(detection_frame,model)\n",
    "    \n",
    "    all_ious.append(IoUs)\n",
    "    all_dets.append(dets)\n",
    "   \n",
    "    \n",
    "plt.plot(tresholds,np.array(all_ious).mean(axis = 0),c= 'r')\n",
    "plt.plot(tresholds,np.array(all_dets).mean(axis = 0),c= 'black')\n",
    "\n",
    "    "
   ]
  },
  {
   "cell_type": "code",
   "execution_count": 50,
   "id": "7ff89ba2-52f2-4214-9c3c-01ce0ceea491",
   "metadata": {},
   "outputs": [
    {
     "ename": "FileNotFoundError",
     "evalue": "[Errno 2] No such file or directory: 'augumentations/CENIBRA/CENIBRA_IMG_6327_RAW.json'",
     "output_type": "error",
     "traceback": [
      "\u001b[0;31m---------------------------------------------------------------------------\u001b[0m",
      "\u001b[0;31mFileNotFoundError\u001b[0m                         Traceback (most recent call last)",
      "Input \u001b[0;32mIn [50]\u001b[0m, in \u001b[0;36m<cell line: 1>\u001b[0;34m()\u001b[0m\n\u001b[1;32m      4\u001b[0m root   \u001b[38;5;241m=\u001b[39m label_paths\u001b[38;5;241m.\u001b[39mreplace(\u001b[38;5;124m\"\u001b[39m\u001b[38;5;124m.json\u001b[39m\u001b[38;5;124m\"\u001b[39m,\u001b[38;5;124m\"\u001b[39m\u001b[38;5;124m\"\u001b[39m)\u001b[38;5;241m.\u001b[39mreplace(\u001b[38;5;124m\"\u001b[39m\u001b[38;5;124m/\u001b[39m\u001b[38;5;124m\"\u001b[39m,\u001b[38;5;124m\"\u001b[39m\u001b[38;5;124m_\u001b[39m\u001b[38;5;124m\"\u001b[39m)\n\u001b[1;32m      6\u001b[0m img    \u001b[38;5;241m=\u001b[39m cv2\u001b[38;5;241m.\u001b[39mimread(image_path)[:,:,::\u001b[38;5;241m-\u001b[39m\u001b[38;5;241m1\u001b[39m]\n\u001b[0;32m----> 8\u001b[0m data   \u001b[38;5;241m=\u001b[39m \u001b[43mread_json\u001b[49m\u001b[43m(\u001b[49m\u001b[43mlabel_paths\u001b[49m\u001b[43m)\u001b[49m\n\u001b[1;32m      9\u001b[0m labels \u001b[38;5;241m=\u001b[39m parse_labelme(data,img)\n\u001b[1;32m     10\u001b[0m tests  \u001b[38;5;241m=\u001b[39m crop\u001b[38;5;241m.\u001b[39mapply(img,labels,\u001b[38;5;124m'\u001b[39m\u001b[38;5;124m_\u001b[39m\u001b[38;5;124m'\u001b[39m)\n",
      "Input \u001b[0;32mIn [26]\u001b[0m, in \u001b[0;36mread_json\u001b[0;34m(path)\u001b[0m\n\u001b[1;32m     26\u001b[0m \u001b[38;5;28;01mdef\u001b[39;00m \u001b[38;5;21mread_json\u001b[39m(path):\n\u001b[0;32m---> 27\u001b[0m     f \u001b[38;5;241m=\u001b[39m \u001b[38;5;28;43mopen\u001b[39;49m\u001b[43m(\u001b[49m\u001b[43mpath\u001b[49m\u001b[43m)\u001b[49m\n\u001b[1;32m     28\u001b[0m     data \u001b[38;5;241m=\u001b[39m json\u001b[38;5;241m.\u001b[39mload(f)\n\u001b[1;32m     29\u001b[0m     f\u001b[38;5;241m.\u001b[39mclose()\n",
      "\u001b[0;31mFileNotFoundError\u001b[0m: [Errno 2] No such file or directory: 'augumentations/CENIBRA/CENIBRA_IMG_6327_RAW.json'"
     ]
    }
   ],
   "source": [
    "for label_paths in paths:\n",
    "    image_path  = label_paths\n",
    "    label_paths = image_path.replace(\".jpg\",\".json\")\n",
    "    root   = label_paths.replace(\".json\",\"\").replace(\"/\",\"_\")\n",
    "\n",
    "    img    = cv2.imread(image_path)[:,:,::-1]\n",
    "\n",
    "    data   = read_json(label_paths)\n",
    "    labels = parse_labelme(data,img)\n",
    "    tests  = crop.apply(img,labels,'_')"
   ]
  },
  {
   "cell_type": "code",
   "execution_count": 93,
   "id": "598a8c47-9a38-494d-bce0-0b618e564620",
   "metadata": {},
   "outputs": [
    {
     "name": "stdout",
     "output_type": "stream",
     "text": [
      "[[0.         0.07883131 0.0738699  0.14112459]\n",
      " [0.04796031 0.09647189 0.1598677  0.21775083]\n",
      " [0.00937155 0.23869901 0.15380375 0.39029768]\n",
      " [0.36052922 0.         0.54024256 0.176957  ]\n",
      " [0.53969129 0.         0.72546858 0.12734289]\n",
      " [0.15325248 0.00716648 0.36824697 0.21499449]\n",
      " [0.15766262 0.25744212 0.27783903 0.37816979]\n",
      " [0.3384785  0.21113561 0.45314223 0.33020948]\n",
      " [0.44597574 0.19514884 0.56063947 0.30981257]\n",
      " [0.42006615 0.32249173 0.49614112 0.40352811]\n",
      " [0.53528115 0.30705623 0.60529217 0.38423374]\n",
      " [0.60859978 0.17585447 0.71830209 0.28445424]\n",
      " [0.63120176 0.26185226 0.707828   0.33572216]\n",
      " [0.74641676 0.1047409  0.88754135 0.25137817]\n",
      " [0.71830209 0.27067255 0.83241455 0.37816979]\n",
      " [0.86052922 0.03914002 0.97794928 0.15545755]\n",
      " [0.81808159 0.24310915 0.92888644 0.35777288]\n",
      " [0.0154355  0.48732084 0.18081588 0.63836825]\n",
      " [0.13891951 0.42227122 0.24255788 0.52480706]\n",
      " [0.23208379 0.31863286 0.4277839  0.51653804]\n",
      " [0.39746417 0.42668137 0.53472988 0.57828004]\n",
      " [0.47739802 0.38092613 0.54520397 0.44542448]\n",
      " [0.65159868 0.3814774  0.82965821 0.53748622]\n",
      " [0.51433297 0.45038589 0.64057332 0.59426681]\n",
      " [0.80815877 0.35887541 0.95203969 0.49724366]\n",
      " [0.94101433 0.53528115 1.         0.61521499]\n",
      " [0.19349504 0.51102536 0.32635061 0.65711136]\n",
      " [0.31918412 0.53472988 0.45755237 0.67750827]\n",
      " [0.46306505 0.57331863 0.63561191 0.75192944]\n",
      " [0.63009923 0.56229327 0.78721058 0.74200662]\n",
      " [0.92502756 0.66703418 1.         0.75633958]\n",
      " [0.         0.63726571 0.11300992 0.75633958]\n",
      " [0.1047409  0.6339581  0.25578831 0.79823594]\n",
      " [0.27894157 0.64222712 0.3401323  0.69790518]\n",
      " [0.25633958 0.69955899 0.40132304 0.84619625]\n",
      " [0.40297685 0.73814774 0.54851158 0.88533627]\n",
      " [0.66593164 0.73318633 0.81036384 0.88368247]\n",
      " [0.82635061 0.75744212 0.96857773 0.90352811]\n",
      " [0.89140022 0.90077178 0.99283352 1.        ]\n",
      " [0.530871   0.8109151  0.72987872 1.        ]\n",
      " [0.44266814 0.93495039 0.52811466 1.        ]\n",
      " [0.33572216 0.84454245 0.4536935  0.96968026]\n",
      " [0.14553473 0.82579934 0.31201764 1.        ]\n",
      " [0.01984564 0.76846748 0.17420066 0.91510474]\n",
      " [0.69900772 0.90022051 0.79988975 1.        ]] [1 1 1 1 1 1 1 1 1 1 1 1 1 1 1 1 1 1 1 1 1 1 1 1 1 1 1 1 1 1 1 1 1 1 1 1 1\n",
      " 1 1 1 1 1 1 1 1]\n"
     ]
    },
    {
     "data": {
      "text/plain": [
       "(0.986325699220585, 0.9111111111111111)"
      ]
     },
     "execution_count": 93,
     "metadata": {},
     "output_type": "execute_result"
    }
   ],
   "source": [
    "model            = Model(\"models/weights/0.0.1.tflite\")\n",
    "crop             = Crop()\n",
    "img              = cv2.imread(\"CENIBRA/IMG_6272.jpg\")[:,:,::-1]\n",
    "data             = read_json(\"CENIBRA/IMG_6272.json\")\n",
    "labels           = parse_labelme(data,img)\n",
    "tests            = crop.apply(img,labels,'_')\n",
    "raw              = tests['_+crop:v0-p0.6'][\"image\"] \n",
    "detection_frame  = reshape(raw)\n",
    "\n",
    "label_bboxes,label_scores    = get_label_boxes(tests[\"_+crop:v0-p0.6\"][\"image\"], tests[\"_+crop:v0-p0.6\"][\"bboxes\"])\n",
    "\n",
    "print(label_bboxes,label_scores)\n",
    "\n",
    "\n",
    "detection_boxes, classes, scores = model.predict(detection_frame)\n",
    "detection_frame[0]     = draw_detection(detection_boxes, classes, scores,detection_frame[0],threshold = 0.5)\n",
    "get_IoUs(detection_boxes,scores,label_bboxes,threshold = 0.47)\n"
   ]
  },
  {
   "cell_type": "code",
   "execution_count": 40,
   "id": "4607ddf6-9bf8-4e8e-ba34-be0f2ccf5464",
   "metadata": {},
   "outputs": [],
   "source": [
    "def get_metrics(image,path = \"models/model-det-400.tflite\"):\n",
    "    \n",
    "    model = Model(path)\n",
    "    for key in image:\n",
    "        \n",
    "        raw                       = image[key][\"image\"]\n",
    "        detection_frame           = reshape(raw)\n",
    "        label_bboxes,label_scores = get_label_boxes(image[key][\"image\"], image[key][\"bboxes\"])\n",
    "        \n",
    "        \n",
    "        detection_boxes, classes, scores = model.predict(detection_frame)\n",
    "        \n",
    "        IoUs = []\n",
    "        dets = []\n",
    "        tresholds = []\n",
    "        for t in np.linspace(0,1,50):\n",
    "            IoU,det = get_IoUs(detection_boxes,scores,label_bboxes,threshold = t)\n",
    "            IoUs.append(IoU)\n",
    "            dets.append(det)\n",
    "            tresholds.append(t)\n",
    "            #metrics.append((t,IoU,det))\n",
    "\n",
    "    return np.array(IoUs), np.array(dets), np.array(tresholds)\n",
    "\n"
   ]
  },
  {
   "cell_type": "code",
   "execution_count": 41,
   "id": "65703770-6eaa-4d07-81ce-265dff54fbae",
   "metadata": {},
   "outputs": [],
   "source": [
    "import os \n",
    "from random import shuffle\n",
    "\n",
    "def generate_all_label_paths():\n",
    "    \n",
    "    folders =   ['CENIBRA']\n",
    "\n",
    "    label_paths = []\n",
    "\n",
    "    for folder in folders:\n",
    "        files = os.listdir(folder)\n",
    "        for file in files:\n",
    "            if \".json\" in file:\n",
    "                label_paths.append(folder+\"/\"+file)\n",
    "\n",
    "    for label in label_paths:\n",
    "        image_path = label.replace(\".json\",\".jpg\")\n",
    "        \n",
    "    return label_paths"
   ]
  },
  {
   "cell_type": "code",
   "execution_count": 42,
   "id": "a116b63e-7b04-4dca-ab63-f5d09226e7ab",
   "metadata": {},
   "outputs": [],
   "source": [
    "img    = cv2.imread(image_path)\n",
    "data   = read_json(label_paths)\n",
    "labels = parse_labelme(data,img)\n",
    "bboxes = pixel_to_proportion(img,labels)"
   ]
  },
  {
   "cell_type": "code",
   "execution_count": 47,
   "id": "bb9fb83c-9a83-454e-bc2e-bfd63a83f395",
   "metadata": {},
   "outputs": [
    {
     "name": "stderr",
     "output_type": "stream",
     "text": [
      " 83%|███████████████████████████████████▋       | 63/76 [02:35<01:02,  4.84s/it]"
     ]
    },
    {
     "name": "stdout",
     "output_type": "stream",
     "text": [
      "crop tries exceed 200\n",
      "local variable 'IoUs' referenced before assignment\n"
     ]
    },
    {
     "name": "stderr",
     "output_type": "stream",
     "text": [
      "100%|███████████████████████████████████████████| 76/76 [03:10<00:00,  2.51s/it]\n"
     ]
    }
   ],
   "source": [
    "from tqdm import tqdm\n",
    "\n",
    "labels = generate_all_label_paths()\n",
    "\n",
    "shuffle(labels)\n",
    "\n",
    "all_ious = []\n",
    "all_dets = []\n",
    "\n",
    "for label_paths in tqdm(labels):\n",
    "    try:\n",
    "    \n",
    "        image_path = label_paths.replace(\".json\",\".jpg\")\n",
    "        root       = label_paths.replace(\".json\",\"\").replace(\"/\",\"_\")\n",
    "\n",
    "        img    = cv2.imread(image_path)[:,:,::-1]\n",
    "\n",
    "        data   = read_json(label_paths)\n",
    "        labels = parse_labelme(data,img)\n",
    "        tests  = crop.apply(img,labels,'_')\n",
    "\n",
    "        IoUs, dets, tresholds = get_metrics(tests,path =\"models/weights/0.0.1.tflite\") \n",
    "\n",
    "        all_ious.append(IoUs)\n",
    "        all_dets.append(dets)\n",
    "    \n",
    "    except Exception as e:\n",
    "        print(e)\n",
    " \n",
    "    "
   ]
  },
  {
   "cell_type": "code",
   "execution_count": 48,
   "id": "3a73f670-181a-41cf-aa68-dbb8c2c141b7",
   "metadata": {},
   "outputs": [
    {
     "data": {
      "text/plain": [
       "[<matplotlib.lines.Line2D at 0x7f960c267520>]"
      ]
     },
     "execution_count": 48,
     "metadata": {},
     "output_type": "execute_result"
    },
    {
     "data": {
      "image/png": "[encoded data removed]",
      "text/plain": [
       "<Figure size 432x288 with 1 Axes>"
      ]
     },
     "metadata": {
      "needs_background": "light"
     },
     "output_type": "display_data"
    }
   ],
   "source": [
    "plt.plot(tresholds,np.array(all_ious).mean(axis = 0),c= 'r')\n",
    "plt.plot(tresholds,np.array(all_dets).mean(axis = 0),c= 'black')"
   ]
  },
  {
   "cell_type": "code",
   "execution_count": 62,
   "id": "d694ccb5-285f-4381-b880-4077cdda6d79",
   "metadata": {},
   "outputs": [
    {
     "data": {
      "text/plain": [
       "[<matplotlib.lines.Line2D at 0x7f36575e5270>]"
      ]
     },
     "execution_count": 62,
     "metadata": {},
     "output_type": "execute_result"
    },
    {
     "data": {
      "image/png": "[encoded data removed]",
      "text/plain": [
       "<Figure size 432x288 with 1 Axes>"
      ]
     },
     "metadata": {
      "needs_background": "light"
     },
     "output_type": "display_data"
    }
   ],
   "source": [
    "plt.plot(tresholds,np.array(all_ious).mean(axis = 0),c= 'r')\n",
    "plt.plot(tresholds,np.array(all_dets).mean(axis = 0),c= 'black')"
   ]
  },
  {
   "cell_type": "code",
   "execution_count": 61,
   "id": "3c74e187-f55a-406e-8d99-de3c08615d99",
   "metadata": {},
   "outputs": [
    {
     "name": "stdout",
     "output_type": "stream",
     "text": [
      "0.9842581248750322\n"
     ]
    },
    {
     "data": {
      "image/png": "[encoded data removed]",
      "text/plain": [
       "<Figure size 432x288 with 1 Axes>"
      ]
     },
     "metadata": {
      "needs_background": "light"
     },
     "output_type": "display_data"
    }
   ],
   "source": [
    "plt.plot(np.array(metrics)[:,0] , np.array(metrics)[:,2],c= 'r')\n",
    "plt.plot(np.array(metrics)[:,0] , np.array(metrics)[:,1],c= 'black')\n",
    "plt.legend([\"IoU\",\"detection accuracy\"])\n",
    "    \n",
    "print(np.array(metrics)[:,1].max())"
   ]
  },
  {
   "cell_type": "code",
   "execution_count": 19,
   "id": "9d320bd9-fb89-4cf2-92e7-140301e5c686",
   "metadata": {},
   "outputs": [
    {
     "name": "stdout",
     "output_type": "stream",
     "text": [
      "0.9897646667540105\n"
     ]
    },
    {
     "data": {
      "image/png": "[encoded data removed]",
      "text/plain": [
       "<Figure size 432x288 with 1 Axes>"
      ]
     },
     "metadata": {
      "needs_background": "light"
     },
     "output_type": "display_data"
    }
   ],
   "source": []
  },
  {
   "cell_type": "code",
   "execution_count": 12,
   "id": "6b76e34e-10b8-4157-a61d-09a7febef24f",
   "metadata": {},
   "outputs": [
    {
     "name": "stdout",
     "output_type": "stream",
     "text": [
      "0.9928007965841033\n"
     ]
    },
    {
     "data": {
      "image/png": "[encoded data removed]",
      "text/plain": [
       "<Figure size 432x288 with 1 Axes>"
      ]
     },
     "metadata": {
      "needs_background": "light"
     },
     "output_type": "display_data"
    }
   ],
   "source": [
    "metrics = get_metrics(tests,path =\"models/model-det-400.tflite\") \n",
    "plt.plot(np.array(metrics)[:,0] , np.array(metrics)[:,1])\n",
    "plt.plot(np.array(metrics)[:,0] , np.array(metrics)[:,2])\n",
    "plt.legend([\"IoU\",\"detection accuracy\"])\n",
    "print(np.array(metrics)[:,1].max())"
   ]
  },
  {
   "cell_type": "code",
   "execution_count": 13,
   "id": "c1b7fa0a-94a2-4d7c-b9a7-b6d3d6c2d7c7",
   "metadata": {},
   "outputs": [
    {
     "ename": "KeyError",
     "evalue": "'_+crop:v0-p0.6'",
     "output_type": "error",
     "traceback": [
      "\u001b[0;31m---------------------------------------------------------------------------\u001b[0m",
      "\u001b[0;31mKeyError\u001b[0m                                  Traceback (most recent call last)",
      "Input \u001b[0;32mIn [13]\u001b[0m, in \u001b[0;36m<cell line: 12>\u001b[0;34m()\u001b[0m\n\u001b[1;32m      7\u001b[0m         IoUs[j,i] \u001b[38;5;241m=\u001b[39m bb_intersection_over_union(det_bb,label_bb)\n\u001b[1;32m      9\u001b[0m matches \u001b[38;5;241m=\u001b[39m np\u001b[38;5;241m.\u001b[39margwhere(IoUs\u001b[38;5;241m>\u001b[39m\u001b[38;5;241m.95\u001b[39m)\n\u001b[0;32m---> 12\u001b[0m raw                    \u001b[38;5;241m=\u001b[39m \u001b[43mtests\u001b[49m\u001b[43m[\u001b[49m\u001b[38;5;124;43m'\u001b[39;49m\u001b[38;5;124;43m_+crop:v0-p0.6\u001b[39;49m\u001b[38;5;124;43m'\u001b[39;49m\u001b[43m]\u001b[49m[\u001b[38;5;124m\"\u001b[39m\u001b[38;5;124mimage\u001b[39m\u001b[38;5;124m\"\u001b[39m]\n\u001b[1;32m     13\u001b[0m detection_frame        \u001b[38;5;241m=\u001b[39m reshape(raw)\n\u001b[1;32m     14\u001b[0m detection_boxes, classes, scores \u001b[38;5;241m=\u001b[39m model\u001b[38;5;241m.\u001b[39mpredict(detection_frame)\n",
      "\u001b[0;31mKeyError\u001b[0m: '_+crop:v0-p0.6'"
     ]
    }
   ],
   "source": [
    "center_det    = get_centers(detection_boxes)\n",
    "center_labels = get_centers(label_bboxes)\n",
    "IoUs          = np.zeros((center_labels.shape[0],center_det.shape[0]))\n",
    "\n",
    "for i, det_bb in enumerate(detection_boxes):\n",
    "    for j,label_bb in enumerate(label_bboxes):\n",
    "        IoUs[j,i] = bb_intersection_over_union(det_bb,label_bb)\n",
    "\n",
    "matches = np.argwhere(IoUs>.95)\n",
    "\n",
    "\n",
    "raw                    = tests['_+crop:v0-p0.6'][\"image\"]\n",
    "detection_frame        = reshape(raw)\n",
    "detection_boxes, classes, scores = model.predict(detection_frame)\n",
    "label_bboxes,scores    = get_label_boxes(tests[\"_+crop:v0-p0.6\"][\"image\"], tests[\"_+crop:v0-p0.6\"][\"bboxes\"])\n",
    "\n",
    "img_drawn              = draw_detection(detection_boxes, classes, scores,detection_frame[0] ,threshold=0.5,color = 'blue')\n",
    "img_drawn              = draw_detection(label_bboxes, classes, scores,img_drawn ,threshold=0.5)\n",
    "\n",
    "plt.imshow(img_drawn)"
   ]
  },
  {
   "cell_type": "code",
   "execution_count": 162,
   "id": "de897af7-eb34-4cb1-b176-27714944f11f",
   "metadata": {},
   "outputs": [
    {
     "ename": "KeyError",
     "evalue": "'_+crop:v0-p0.3'",
     "output_type": "error",
     "traceback": [
      "\u001b[0;31m---------------------------------------------------------------------------\u001b[0m",
      "\u001b[0;31mKeyError\u001b[0m                                  Traceback (most recent call last)",
      "Input \u001b[0;32mIn [162]\u001b[0m, in \u001b[0;36m<cell line: 1>\u001b[0;34m()\u001b[0m\n\u001b[0;32m----> 1\u001b[0m label_bboxes,scores \u001b[38;5;241m=\u001b[39m get_label_boxes(\u001b[43mtests\u001b[49m\u001b[43m[\u001b[49m\u001b[38;5;124;43m\"\u001b[39;49m\u001b[38;5;124;43m_+crop:v0-p0.3\u001b[39;49m\u001b[38;5;124;43m\"\u001b[39;49m\u001b[43m]\u001b[49m[\u001b[38;5;124m\"\u001b[39m\u001b[38;5;124mimage\u001b[39m\u001b[38;5;124m\"\u001b[39m], tests[\u001b[38;5;124m\"\u001b[39m\u001b[38;5;124m_+crop:v0-p0.3\u001b[39m\u001b[38;5;124m\"\u001b[39m][\u001b[38;5;124m\"\u001b[39m\u001b[38;5;124mbboxes\u001b[39m\u001b[38;5;124m\"\u001b[39m])\n\u001b[1;32m      3\u001b[0m boxes,conf \u001b[38;5;241m=\u001b[39m get_label_boxes(img,bboxes)\n\u001b[1;32m      4\u001b[0m \u001b[38;5;66;03m#get_centers(boxes)\u001b[39;00m\n",
      "\u001b[0;31mKeyError\u001b[0m: '_+crop:v0-p0.3'"
     ]
    }
   ],
   "source": [
    "label_bboxes,scores = get_label_boxes(tests[\"_+crop:v0-p0.3\"][\"image\"], tests[\"_+crop:v0-p0.3\"][\"bboxes\"])\n",
    "   \n",
    "boxes,conf = get_label_boxes(img,bboxes)\n",
    "#get_centers(boxes)\n",
    "\n",
    "boxes"
   ]
  },
  {
   "cell_type": "code",
   "execution_count": 423,
   "id": "2dc7c135-2e96-4472-b5b3-dbbc916b0b1b",
   "metadata": {},
   "outputs": [
    {
     "ename": "KeyError",
     "evalue": "'_+crop:v0-p0.2'",
     "output_type": "error",
     "traceback": [
      "\u001b[0;31m---------------------------------------------------------------------------\u001b[0m",
      "\u001b[0;31mKeyError\u001b[0m                                  Traceback (most recent call last)",
      "Input \u001b[0;32mIn [423]\u001b[0m, in \u001b[0;36m<cell line: 1>\u001b[0;34m()\u001b[0m\n\u001b[0;32m----> 1\u001b[0m detection_frame        \u001b[38;5;241m=\u001b[39m \u001b[43mtests\u001b[49m\u001b[43m[\u001b[49m\u001b[38;5;124;43m'\u001b[39;49m\u001b[38;5;124;43m_+crop:v0-p0.2\u001b[39;49m\u001b[38;5;124;43m'\u001b[39;49m\u001b[43m]\u001b[49m[\u001b[38;5;124m\"\u001b[39m\u001b[38;5;124mimage\u001b[39m\u001b[38;5;124m\"\u001b[39m]\n\u001b[1;32m      2\u001b[0m detection_frame        \u001b[38;5;241m=\u001b[39m reshape(detection_frame)\n\u001b[1;32m      3\u001b[0m boxes, classes, scores \u001b[38;5;241m=\u001b[39m model\u001b[38;5;241m.\u001b[39mpredict(detection_frame)\n",
      "\u001b[0;31mKeyError\u001b[0m: '_+crop:v0-p0.2'"
     ]
    }
   ],
   "source": [
    "detection_frame        = tests['_+crop:v0-p0.2'][\"image\"]\n",
    "detection_frame        = reshape(detection_frame)\n",
    "boxes, classes, scores = model.predict(detection_frame)\n",
    "\n",
    "img_drawn              = draw_labels(tests['_+crop:v0-p0.2'][\"bboxes\"],detection_frame[0],True)\n",
    "\n",
    "mock = draw_detection(boxes, classes, scores,detection_frame[0],threshold=0.5)\n",
    "plt.imshow(detection_frame[0].astype(np.uint))"
   ]
  }
 ],
 "metadata": {
  "kernelspec": {
   "display_name": "Python 3 (ipykernel)",
   "language": "python",
   "name": "python3"
  },
  "language_info": {
   "codemirror_mode": {
    "name": "ipython",
    "version": 3
   },
   "file_extension": ".py",
   "mimetype": "text/x-python",
   "name": "python",
   "nbconvert_exporter": "python",
   "pygments_lexer": "ipython3",
   "version": "3.8.13"
  }
 },
 "nbformat": 4,
 "nbformat_minor": 5
}
