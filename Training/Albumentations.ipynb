{
 "cells": [
  {
   "cell_type": "markdown",
   "metadata": {
    "id": "SAyR2TZpsyeZ"
   },
   "source": [
    "INSTALL ALBUMENTATIONS (TIVE QUE USAR ESSES ARGUMENTOS POR JÁ TER OPENCV INSTALADO NO SISTEMA)"
   ]
  },
  {
   "cell_type": "code",
   "execution_count": 2,
   "metadata": {
    "id": "mXIWWxu9SO3s"
   },
   "outputs": [
    {
     "name": "stdout",
     "output_type": "stream",
     "text": [
      "\n",
      "\u001b[1m[\u001b[0m\u001b[34;49mnotice\u001b[0m\u001b[1;39;49m]\u001b[0m\u001b[39;49m A new release of pip available: \u001b[0m\u001b[31;49m22.2.2\u001b[0m\u001b[39;49m -> \u001b[0m\u001b[32;49m22.3\u001b[0m\n",
      "\u001b[1m[\u001b[0m\u001b[34;49mnotice\u001b[0m\u001b[1;39;49m]\u001b[0m\u001b[39;49m To update, run: \u001b[0m\u001b[32;49mpip install --upgrade pip\u001b[0m\n"
     ]
    }
   ],
   "source": [
    "!pip install -q -U albumentations --no-binary qudida,albumentations"
   ]
  },
  {
   "cell_type": "code",
   "execution_count": 4,
   "metadata": {
    "executionInfo": {
     "elapsed": 2278,
     "status": "ok",
     "timestamp": 1649346346242,
     "user": {
      "displayName": "Dev Pixlog",
      "userId": "08701028484598174434"
     },
     "user_tz": 180
    },
    "id": "t2kfEWM4RNPt"
   },
   "outputs": [],
   "source": [
    "import cv2\n",
    "import albumentations as A\n",
    "import numpy as np\n",
    "import matplotlib.pyplot as plt\n",
    "import matplotlib.patches as patches\n",
    "import csv\n",
    "import random\n",
    "#from google.colab.patches import cv2_imshow"
   ]
  },
  {
   "cell_type": "markdown",
   "metadata": {
    "id": "VGuDAwl9uMcr"
   },
   "source": [
    "OPEN CSV COM ANOTAÇÕES DE BOUNDING BOXES"
   ]
  },
  {
   "cell_type": "code",
   "execution_count": null,
   "metadata": {
    "id": "-atf3Yt_E1Uo"
   },
   "outputs": [],
   "source": [
    "images = []\n",
    "trainRows = []\n",
    "allRows = []\n",
    "\n",
    "with open('/content/drive/MyDrive/CSVs/Modelo5.csv', 'r') as f:\n",
    "    reader = csv.reader(f)\n",
    "    for row in reader:\n",
    "        \n",
    "        allRows.append(row)\n",
    "        checkTrain = row[0]\n",
    "\n",
    "        if checkTrain == 'TRAIN':\n",
    "            trainRows.append(row)\n",
    "\n",
    "        if not images:\n",
    "            if checkTrain == 'TRAIN':\n",
    "                images.append(row[1])\n",
    "\n",
    "        elif row[1] != images[-1] and checkTrain == 'TRAIN':\n",
    "            images.append(row[1])\n"
   ]
  },
  {
   "cell_type": "markdown",
   "metadata": {
    "id": "cJV_qAT0uYHc"
   },
   "source": [
    "FAZ AUGMENTATIONS DE FLIP, BLUR E BRIGHTNESS E SALVA FOTOS NA PASTA AUGMENTATION"
   ]
  },
  {
   "cell_type": "code",
   "execution_count": null,
   "metadata": {
    "id": "5aV2m4MQIqEJ"
   },
   "outputs": [],
   "source": [
    "\n",
    "pastaDrive = '/content/drive/MyDrive/images_16.02.22/augmentation'\n",
    "\n",
    "\n",
    "\n",
    "for image in images:\n",
    "    split = image.split(\"/\")\n",
    "    nomePasta = split[5]\n",
    "    nomeFoto = split[6]\n",
    "\n",
    "    bboxes = []\n",
    "\n",
    "\n",
    "    for row in trainRows:\n",
    "    if image == row[1]:\n",
    "        temp = []\n",
    "        temp.append(float(row[3]))\n",
    "        temp.append(float(row[4]))\n",
    "        temp.append(float(row[7]))\n",
    "        temp.append(float(row[8]))\n",
    "        bboxes.append(temp)\n",
    "\n",
    "    img = cv2.imread(image)\n",
    "\n",
    "\n",
    "    transform = A.Compose([\n",
    "    A.HorizontalFlip(p=0.5),\n",
    "    A.OneOf([\n",
    "        A.Blur(p=0.3),\n",
    "        A.MedianBlur(p=0.3),\n",
    "        A.MotionBlur(p=0.3),\n",
    "    ], p=0.8),\n",
    "    A.OneOf([\n",
    "        A.RandomBrightnessContrast(p=1.0),\n",
    "    ], p=0.8),\n",
    "\n",
    "    # A.ISONoise(p=1.0),\n",
    "    # A.RandomRain(p=1.0, drop_length=27, blur_value=5, brightness_coefficient=0.7)\n",
    "    # A.RandomSunFlare(p=1.0)\n",
    "    # A.Perspective(p=1.0)\n",
    "    ],bbox_params=A.BboxParams(format='albumentations', label_fields=[]))\n",
    "\n",
    "\n",
    "    images_list = []\n",
    "    bboxes_list = []\n",
    "\n",
    "    for i in range(3):\n",
    "        transformed = transform(image=img, bboxes=bboxes)\n",
    "        transformed_img = transformed[\"image\"]\n",
    "        transformed_bboxes = transformed[\"bboxes\"]\n",
    "\n",
    "        images_list.append(transformed_img)\n",
    "        bboxes_list.append(transformed_bboxes)\n",
    "\n",
    "\n",
    "    photoCount = 1\n",
    "    j = 0\n",
    "    for imageT in images_list:\n",
    "        nomeFotoT = pastaDrive + '/' + nomePasta + '/' + nomeFoto[:-4] + '_T' + str(photoCount) + '.jpg'\n",
    "        cv2.imwrite(nomeFotoT, imageT)\n",
    "        height = imageT.shape[0]\n",
    "        width = imageT.shape[1]\n",
    "        for bboxes in bboxes_list[j]:  \n",
    "            x_min = bboxes[0]\n",
    "            y_min = bboxes[1]\n",
    "            x_max = bboxes[2]\n",
    "            y_max = bboxes[3]\n",
    "\n",
    "            ymin = int(max(1,(y_min * height)))\n",
    "            xmin = int(max(1,(x_min * width)))\n",
    "            ymax = int(min(height,(y_max * height)))\n",
    "            xmax = int(min(width,(x_max * width)))\n",
    "\n",
    "            data = [\"TRAIN\", nomeFotoT, 'log', x_min, y_min, x_max, y_min, x_max, y_max, x_min, y_max]\n",
    "\n",
    "            allRows.append(data)\n",
    "\n",
    "            cv2.rectangle(imageT, (xmin,ymin), (xmax,ymax), (10, 255, 0), 2)\n",
    "\n",
    "\n",
    "    photoCount += 1\n",
    "    j += 1\n",
    "    # cv2_imshow(imageT)\n"
   ]
  },
  {
   "cell_type": "markdown",
   "metadata": {
    "id": "khKg_UFgukTs"
   },
   "source": [
    "SHUFFLE NO DATASET"
   ]
  },
  {
   "cell_type": "code",
   "execution_count": null,
   "metadata": {
    "id": "jbfv24JpA9EU"
   },
   "outputs": [],
   "source": [
    "newUniqueRows = []\n",
    "newRowsCount = []\n",
    "newRows = []\n",
    "\n",
    "\n",
    "for x in allRows:\n",
    "\n",
    "    newRowsCount.append(x)\n",
    "\n",
    "    linha = x[1]\n",
    "\n",
    "    if not newUniqueRows:\n",
    "        newUniqueRows.append(linha)\n",
    "\n",
    "    elif newUniqueRows[-1] != linha:\n",
    "        newUniqueRows.append(linha)\n",
    "\n",
    "\n",
    "#shuffle\n",
    "random.shuffle(newUniqueRows)\n",
    "\n",
    "\n",
    "for index, i in enumerate(newUniqueRows):\n",
    "    for j in newRowsCount:\n",
    "        if i == j[1]:\n",
    "            data = [j[0], j[1], j[2], j[3], j[4], j[5], j[6], j[7], j[8], j[9], j[10]]\n",
    "            newRows.append(data)"
   ]
  },
  {
   "cell_type": "markdown",
   "metadata": {
    "id": "_SnAj7AtuuHR"
   },
   "source": [
    "SALVA CSV COM TODAS AS BOUNDING BOXES"
   ]
  },
  {
   "cell_type": "code",
   "execution_count": null,
   "metadata": {
    "id": "m-veiP0XBPZM"
   },
   "outputs": [],
   "source": [
    "with open('/content/drive/MyDrive/CSVs/Modelo5_T.csv', 'w', newline='') as f:\n",
    "\n",
    "    for data in newRows:\n",
    "\n",
    "        writer = csv.writer(f)\n",
    "\n",
    "        writer.writerow(data)"
   ]
  }
 ],
 "metadata": {
  "colab": {
   "authorship_tag": "ABX9TyOqkZkaSCFEdzCnCkQVdfZg",
   "collapsed_sections": [],
   "mount_file_id": "1PnBL5ft9PootFhXzjZcb5iFX2JW2Y64G",
   "name": "Albumentations.ipynb",
   "provenance": []
  },
  "kernelspec": {
   "display_name": "Python 3 (ipykernel)",
   "language": "python",
   "name": "python3"
  },
  "language_info": {
   "codemirror_mode": {
    "name": "ipython",
    "version": 3
   },
   "file_extension": ".py",
   "mimetype": "text/x-python",
   "name": "python",
   "nbconvert_exporter": "python",
   "pygments_lexer": "ipython3",
   "version": "3.8.13"
  }
 },
 "nbformat": 4,
 "nbformat_minor": 4
}
