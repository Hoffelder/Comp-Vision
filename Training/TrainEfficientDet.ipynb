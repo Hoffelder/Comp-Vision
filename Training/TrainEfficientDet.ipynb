{
 "cells": [
  {
   "cell_type": "markdown",
   "metadata": {
    "id": "-woo9XWFpTUk"
   },
   "source": [
    "CONECTAR COM O DRIVE"
   ]
  },
  {
   "cell_type": "code",
   "execution_count": 1,
   "metadata": {
    "colab": {
     "base_uri": "https://localhost:8080/"
    },
    "executionInfo": {
     "elapsed": 19291,
     "status": "ok",
     "timestamp": 1649344421207,
     "user": {
      "displayName": "Dev Pixlog",
      "userId": "08701028484598174434"
     },
     "user_tz": 180
    },
    "id": "dZm9AsKyAsYn",
    "outputId": "0b356295-8e1d-46b1-b0f6-87ca6470d3e5"
   },
   "outputs": [
    {
     "ename": "ModuleNotFoundError",
     "evalue": "No module named 'google.colab'",
     "output_type": "error",
     "traceback": [
      "\u001b[0;31m---------------------------------------------------------------------------\u001b[0m",
      "\u001b[0;31mModuleNotFoundError\u001b[0m                       Traceback (most recent call last)",
      "\u001b[0;32m<ipython-input-1-033dc64bbbab>\u001b[0m in \u001b[0;36m<module>\u001b[0;34m\u001b[0m\n\u001b[0;32m----> 1\u001b[0;31m \u001b[0;32mfrom\u001b[0m \u001b[0mgoogle\u001b[0m\u001b[0;34m.\u001b[0m\u001b[0mcolab\u001b[0m \u001b[0;32mimport\u001b[0m \u001b[0mdrive\u001b[0m\u001b[0;34m\u001b[0m\u001b[0;34m\u001b[0m\u001b[0m\n\u001b[0m\u001b[1;32m      2\u001b[0m \u001b[0;31m#drive.mount('/content/drive')\u001b[0m\u001b[0;34m\u001b[0m\u001b[0;34m\u001b[0m\u001b[0;34m\u001b[0m\u001b[0m\n",
      "\u001b[0;31mModuleNotFoundError\u001b[0m: No module named 'google.colab'"
     ]
    }
   ],
   "source": [
    "from google.colab import drive\n",
    "#drive.mount('/content/drive')"
   ]
  },
  {
   "cell_type": "markdown",
   "metadata": {
    "id": "9USk6yvxpYKZ"
   },
   "source": [
    "INSTALL AND IMPORT LIBRARIES"
   ]
  },
  {
   "cell_type": "code",
   "execution_count": 1,
   "metadata": {
    "colab": {
     "base_uri": "https://localhost:8080/"
    },
    "executionInfo": {
     "elapsed": 27656,
     "status": "ok",
     "timestamp": 1649344463215,
     "user": {
      "displayName": "Dev Pixlog",
      "userId": "08701028484598174434"
     },
     "user_tz": 180
    },
    "id": "3tLE4BjLRad-",
    "outputId": "fc48705a-4ff2-4bd3-bd20-dfb85d7b1721"
   },
   "outputs": [
    {
     "name": "stdout",
     "output_type": "stream",
     "text": [
      "Collecting tensorflow-gpu\n",
      "\u001b[33m  WARNING: Retrying (Retry(total=4, connect=None, read=None, redirect=None, status=None)) after connection broken by 'ReadTimeoutError(\"HTTPSConnectionPool(host='files.pythonhosted.org', port=443): Read timed out. (read timeout=15)\",)': /packages/5b/08/4df71c84c98a6d109d93ff92a4bbca7eac90443a8a589912aee0dcbfc777/tensorflow_gpu-2.6.2-cp36-cp36m-manylinux2010_x86_64.whl\u001b[0m\n",
      "  Downloading tensorflow_gpu-2.6.2-cp36-cp36m-manylinux2010_x86_64.whl (458.3 MB)\n",
      "     |████████████████████████████████| 458.3 MB 8.0 kB/s             \n",
      "\u001b[?25hRequirement already satisfied: tensorflow-estimator<2.7,>=2.6.0 in ./pixlog/lib/python3.6/site-packages (from tensorflow-gpu) (2.6.0)\n",
      "Requirement already satisfied: keras<2.7,>=2.6.0 in ./pixlog/lib/python3.6/site-packages (from tensorflow-gpu) (2.6.0)\n",
      "Requirement already satisfied: wheel~=0.35 in ./pixlog/lib/python3.6/site-packages (from tensorflow-gpu) (0.37.1)\n",
      "Requirement already satisfied: grpcio<2.0,>=1.37.0 in ./pixlog/lib/python3.6/site-packages (from tensorflow-gpu) (1.44.0)\n",
      "Requirement already satisfied: google-pasta~=0.2 in ./pixlog/lib/python3.6/site-packages (from tensorflow-gpu) (0.2.0)\n",
      "Requirement already satisfied: tensorboard<2.7,>=2.6.0 in ./pixlog/lib/python3.6/site-packages (from tensorflow-gpu) (2.6.0)\n",
      "Requirement already satisfied: opt-einsum~=3.3.0 in ./pixlog/lib/python3.6/site-packages (from tensorflow-gpu) (3.3.0)\n",
      "Requirement already satisfied: clang~=5.0 in ./pixlog/lib/python3.6/site-packages (from tensorflow-gpu) (5.0)\n",
      "Requirement already satisfied: flatbuffers~=1.12.0 in ./pixlog/lib/python3.6/site-packages (from tensorflow-gpu) (1.12)\n",
      "Requirement already satisfied: h5py~=3.1.0 in ./pixlog/lib/python3.6/site-packages (from tensorflow-gpu) (3.1.0)\n",
      "Requirement already satisfied: protobuf>=3.9.2 in ./pixlog/lib/python3.6/site-packages (from tensorflow-gpu) (3.19.4)\n",
      "Requirement already satisfied: six~=1.15.0 in ./pixlog/lib/python3.6/site-packages (from tensorflow-gpu) (1.15.0)\n",
      "Requirement already satisfied: keras-preprocessing~=1.1.2 in ./pixlog/lib/python3.6/site-packages (from tensorflow-gpu) (1.1.2)\n",
      "Requirement already satisfied: termcolor~=1.1.0 in ./pixlog/lib/python3.6/site-packages (from tensorflow-gpu) (1.1.0)\n",
      "Requirement already satisfied: numpy~=1.19.2 in ./pixlog/lib/python3.6/site-packages (from tensorflow-gpu) (1.19.5)\n",
      "Requirement already satisfied: absl-py~=0.10 in ./pixlog/lib/python3.6/site-packages (from tensorflow-gpu) (0.12.0)\n",
      "Requirement already satisfied: typing-extensions~=3.7.4 in ./pixlog/lib/python3.6/site-packages (from tensorflow-gpu) (3.7.4.3)\n",
      "Requirement already satisfied: wrapt~=1.12.1 in ./pixlog/lib/python3.6/site-packages (from tensorflow-gpu) (1.12.1)\n",
      "Requirement already satisfied: gast==0.4.0 in ./pixlog/lib/python3.6/site-packages (from tensorflow-gpu) (0.4.0)\n",
      "Requirement already satisfied: astunparse~=1.6.3 in ./pixlog/lib/python3.6/site-packages (from tensorflow-gpu) (1.6.3)\n",
      "Requirement already satisfied: cached-property in ./pixlog/lib/python3.6/site-packages (from h5py~=3.1.0->tensorflow-gpu) (1.5.2)\n",
      "Requirement already satisfied: setuptools>=41.0.0 in ./pixlog/lib/python3.6/site-packages (from tensorboard<2.7,>=2.6.0->tensorflow-gpu) (59.6.0)\n",
      "Requirement already satisfied: werkzeug>=0.11.15 in ./pixlog/lib/python3.6/site-packages (from tensorboard<2.7,>=2.6.0->tensorflow-gpu) (2.0.3)\n",
      "Requirement already satisfied: tensorboard-data-server<0.7.0,>=0.6.0 in ./pixlog/lib/python3.6/site-packages (from tensorboard<2.7,>=2.6.0->tensorflow-gpu) (0.6.1)\n",
      "Requirement already satisfied: markdown>=2.6.8 in ./pixlog/lib/python3.6/site-packages (from tensorboard<2.7,>=2.6.0->tensorflow-gpu) (3.3.6)\n",
      "Requirement already satisfied: google-auth<2,>=1.6.3 in ./pixlog/lib/python3.6/site-packages (from tensorboard<2.7,>=2.6.0->tensorflow-gpu) (1.35.0)\n",
      "Requirement already satisfied: requests<3,>=2.21.0 in ./pixlog/lib/python3.6/site-packages (from tensorboard<2.7,>=2.6.0->tensorflow-gpu) (2.27.1)\n",
      "Requirement already satisfied: tensorboard-plugin-wit>=1.6.0 in ./pixlog/lib/python3.6/site-packages (from tensorboard<2.7,>=2.6.0->tensorflow-gpu) (1.8.1)\n",
      "Requirement already satisfied: google-auth-oauthlib<0.5,>=0.4.1 in ./pixlog/lib/python3.6/site-packages (from tensorboard<2.7,>=2.6.0->tensorflow-gpu) (0.4.6)\n",
      "Requirement already satisfied: cachetools<5.0,>=2.0.0 in ./pixlog/lib/python3.6/site-packages (from google-auth<2,>=1.6.3->tensorboard<2.7,>=2.6.0->tensorflow-gpu) (4.2.4)\n",
      "Requirement already satisfied: rsa<5,>=3.1.4 in ./pixlog/lib/python3.6/site-packages (from google-auth<2,>=1.6.3->tensorboard<2.7,>=2.6.0->tensorflow-gpu) (4.8)\n",
      "Requirement already satisfied: pyasn1-modules>=0.2.1 in ./pixlog/lib/python3.6/site-packages (from google-auth<2,>=1.6.3->tensorboard<2.7,>=2.6.0->tensorflow-gpu) (0.2.8)\n",
      "Requirement already satisfied: requests-oauthlib>=0.7.0 in ./pixlog/lib/python3.6/site-packages (from google-auth-oauthlib<0.5,>=0.4.1->tensorboard<2.7,>=2.6.0->tensorflow-gpu) (1.3.1)\n",
      "Requirement already satisfied: importlib-metadata>=4.4 in ./pixlog/lib/python3.6/site-packages (from markdown>=2.6.8->tensorboard<2.7,>=2.6.0->tensorflow-gpu) (4.8.3)\n",
      "Requirement already satisfied: certifi>=2017.4.17 in ./pixlog/lib/python3.6/site-packages (from requests<3,>=2.21.0->tensorboard<2.7,>=2.6.0->tensorflow-gpu) (2021.10.8)\n",
      "Requirement already satisfied: charset-normalizer~=2.0.0 in ./pixlog/lib/python3.6/site-packages (from requests<3,>=2.21.0->tensorboard<2.7,>=2.6.0->tensorflow-gpu) (2.0.12)\n",
      "Requirement already satisfied: idna<4,>=2.5 in ./pixlog/lib/python3.6/site-packages (from requests<3,>=2.21.0->tensorboard<2.7,>=2.6.0->tensorflow-gpu) (3.3)\n",
      "Requirement already satisfied: urllib3<1.27,>=1.21.1 in ./pixlog/lib/python3.6/site-packages (from requests<3,>=2.21.0->tensorboard<2.7,>=2.6.0->tensorflow-gpu) (1.25.11)\n",
      "Requirement already satisfied: dataclasses in ./pixlog/lib/python3.6/site-packages (from werkzeug>=0.11.15->tensorboard<2.7,>=2.6.0->tensorflow-gpu) (0.8)\n",
      "Requirement already satisfied: zipp>=0.5 in ./pixlog/lib/python3.6/site-packages (from importlib-metadata>=4.4->markdown>=2.6.8->tensorboard<2.7,>=2.6.0->tensorflow-gpu) (3.6.0)\n",
      "Requirement already satisfied: pyasn1<0.5.0,>=0.4.6 in ./pixlog/lib/python3.6/site-packages (from pyasn1-modules>=0.2.1->google-auth<2,>=1.6.3->tensorboard<2.7,>=2.6.0->tensorflow-gpu) (0.4.8)\n",
      "Requirement already satisfied: oauthlib>=3.0.0 in ./pixlog/lib/python3.6/site-packages (from requests-oauthlib>=0.7.0->google-auth-oauthlib<0.5,>=0.4.1->tensorboard<2.7,>=2.6.0->tensorflow-gpu) (3.2.0)\n",
      "Installing collected packages: tensorflow-gpu\n",
      "Successfully installed tensorflow-gpu-2.6.2\n",
      "Requirement already satisfied: google in ./pixlog/lib/python3.6/site-packages (3.0.0)\n",
      "Requirement already satisfied: beautifulsoup4 in ./pixlog/lib/python3.6/site-packages (from google) (4.11.1)\n",
      "Requirement already satisfied: soupsieve>1.2 in ./pixlog/lib/python3.6/site-packages (from beautifulsoup4->google) (2.3.2.post1)\n"
     ]
    }
   ],
   "source": [
    "!pip install -q tflite-model-maker\n",
    "!pip install -q pycocotools\n",
    "!pip install -q tflite-support\n",
    "'!pip install tensorflow-gpu\n",
    "!pip install google\n"
   ]
  },
  {
   "cell_type": "code",
   "execution_count": 3,
   "metadata": {
    "executionInfo": {
     "elapsed": 331,
     "status": "ok",
     "timestamp": 1649344697569,
     "user": {
      "displayName": "Dev Pixlog",
      "userId": "08701028484598174434"
     },
     "user_tz": 180
    },
    "id": "0hFZ4uxSR2Ki"
   },
   "outputs": [],
   "source": [
    "import numpy as np\n",
    "\n",
    "from tflite_model_maker.config import ExportFormat\n",
    "from tflite_model_maker import model_spec\n",
    "from tflite_model_maker import object_detector\n",
    "\n",
    "\n",
    "import tensorflow as tf\n",
    "assert tf.__version__.startswith('2')\n",
    "\n",
    "tf.get_logger().setLevel('ERROR')\n",
    "from absl import logging\n",
    "logging.set_verbosity(logging.ERROR)"
   ]
  },
  {
   "cell_type": "code",
   "execution_count": 2,
   "metadata": {},
   "outputs": [
    {
     "name": "stdout",
     "output_type": "stream",
     "text": [
      "2.6.2\n",
      "3.6.9 (default, Mar 15 2022, 13:55:28) \n",
      "[GCC 8.4.0]\n"
     ]
    },
    {
     "data": {
      "text/plain": [
       "[name: \"/device:CPU:0\"\n",
       " device_type: \"CPU\"\n",
       " memory_limit: 268435456\n",
       " locality {\n",
       " }\n",
       " incarnation: 1622411547926435582]"
      ]
     },
     "execution_count": 2,
     "metadata": {},
     "output_type": "execute_result"
    }
   ],
   "source": [
    "print(tf.__version__)\n",
    "import sys\n",
    "print(sys.version)\n",
    "tf.test.gpu_device_name()\n",
    "from tensorflow.python.client import device_lib\n",
    "device_lib.list_local_devices()"
   ]
  },
  {
   "cell_type": "code",
   "execution_count": 4,
   "metadata": {
    "colab": {
     "base_uri": "https://localhost:8080/"
    },
    "executionInfo": {
     "elapsed": 340,
     "status": "ok",
     "timestamp": 1649346106677,
     "user": {
      "displayName": "Dev Pixlog",
      "userId": "08701028484598174434"
     },
     "user_tz": 180
    },
    "id": "Ymz0UJSnR5xq",
    "outputId": "17c31483-d45d-4031-9429-9bf0880857d9"
   },
   "outputs": [
    {
     "name": "stdout",
     "output_type": "stream",
     "text": [
      "2.6.2\n",
      "3.6.9 (default, Mar 15 2022, 13:55:28) \n",
      "[GCC 8.4.0]\n"
     ]
    },
    {
     "data": {
      "text/plain": [
       "[name: \"/device:CPU:0\"\n",
       " device_type: \"CPU\"\n",
       " memory_limit: 268435456\n",
       " locality {\n",
       " }\n",
       " incarnation: 7234516675929037264]"
      ]
     },
     "execution_count": 4,
     "metadata": {},
     "output_type": "execute_result"
    }
   ],
   "source": [
    "print(tf.__version__)\n",
    "import sys\n",
    "print(sys.version)\n",
    "tf.test.gpu_device_name()\n",
    "from tensorflow.python.client import device_lib\n",
    "device_lib.list_local_devices()"
   ]
  },
  {
   "cell_type": "markdown",
   "metadata": {
    "id": "n0jfUuvCplWX"
   },
   "source": [
    "ESCOLHER UMA ARQUITETURA ABAIXO (EFFICIENTDET LITE 2, EFFICIENTDET LITE 0, EFFICIENTDET LITE 4)"
   ]
  },
  {
   "cell_type": "code",
   "execution_count": 4,
   "metadata": {
    "id": "CKtN4EgFK_QH"
   },
   "outputs": [],
   "source": [
    "#EFFICIENTDET LITE 2\n",
    "\n",
    "spec = object_detector.EfficientDetSpec(\n",
    "    model_name = 'efficientdet-lite2',\n",
    "    uri = 'https://tfhub.dev/tensorflow/efficientdet/lite2/feature-vector/1',\n",
    "    # hparams = {'max_instances_per_image' : 300, 'optimizer' : 'adam', 'learning_rate' : 0.008, 'lr_warmup_init' : 0.0008},\n",
    "    # hparams = {'max_instances_per_image' : 300, 'optimizer' : 'sgd', 'learning_rate' : 0.08, 'lr_warmup_init' : 0.008},\n",
    "    hparams = {'max_instances_per_image' : 255,'optimizer' : 'adam'},\n",
    "    model_dir = './models',\n",
    "    epochs = 1,\n",
    "    batch_size = 16,\n",
    "    steps_per_execution = 1,\n",
    "    moving_average_decay = 0,\n",
    "    var_freeze_expr = '(efficientnet|fpn_cells|resample_p6)',\n",
    "    tflite_max_detections = 50,\n",
    "    strategy = None,\n",
    "    tpu = None,\n",
    "    gcp_project = None,\n",
    "    tpu_zone = None,\n",
    "    use_xla = True,\n",
    "    profile = False,\n",
    "    debug = False,\n",
    "    tf_random_seed = 111111,\n",
    "    verbose = 0\n",
    ")"
   ]
  },
  {
   "cell_type": "code",
   "execution_count": 14,
   "metadata": {
    "id": "U9uRPj8Rs-15"
   },
   "outputs": [],
   "source": [
    "#EFFICIENTDET LITE 0\n",
    "#, 'autoaugment_policy' : policy_v0()\n",
    "spec = object_detector.EfficientDetSpec(\n",
    "    model_name = 'efficientdet-lite0',\n",
    "    uri = 'https://tfhub.dev/tensorflow/efficientdet/lite0/feature-vector/1',\n",
    "    hparams = {'max_instances_per_image' : 300, 'optimizer' : 'adam', 'learning_rate' : 0.008, 'lr_warmup_init' : 0.0008},\n",
    "    # hparams = {'max_instances_per_image' : 300, 'optimizer' : 'sgd', 'learning_rate' : 0.08, 'lr_warmup_init' : 0.008},\n",
    "    model_dir = './models',\n",
    "    epochs = 50,\n",
    "    batch_size = 64,\n",
    "    steps_per_execution = 1,\n",
    "    moving_average_decay = 0,\n",
    "    var_freeze_expr = '(efficientnet|fpn_cells|resample_p6)',\n",
    "    tflite_max_detections = 100,\n",
    "    strategy = None,\n",
    "    tpu = None,\n",
    "    gcp_project = None,\n",
    "    tpu_zone = None,\n",
    "    use_xla = False,\n",
    "    profile = False,\n",
    "    debug = False,\n",
    "    tf_random_seed = 111111,\n",
    "    verbose = 0\n",
    ")"
   ]
  },
  {
   "cell_type": "code",
   "execution_count": null,
   "metadata": {
    "id": "--XwFABMRBuJ"
   },
   "outputs": [],
   "source": [
    "#EFFICIENTDET LITE 4\n",
    "\n",
    "spec = object_detector.EfficientDetSpec(\n",
    "    model_name = 'efficientdet-lite4',\n",
    "    uri = 'https://tfhub.dev/tensorflow/efficientdet/lite4/feature-vector/2',\n",
    "    # hparams = {'max_instances_per_image' : 300, 'optimizer' : 'adam', 'learning_rate' : 0.008, 'lr_warmup_init' : 0.0008},\n",
    "    # hparams = {'max_instances_per_image' : 300, 'optimizer' : 'sgd', 'learning_rate' : 0.08, 'lr_warmup_init' : 0.008},\n",
    "    hparams = {'max_instances_per_image' : 300},\n",
    "    model_dir = '/content/drive/MyDrive/modelDir.3_Aug',\n",
    "    epochs = 50,\n",
    "    batch_size = 8,\n",
    "    steps_per_execution = 1,\n",
    "    moving_average_decay = 0,\n",
    "    var_freeze_expr = '(efficientnet|fpn_cells|resample_p6)',\n",
    "    tflite_max_detections = 100,\n",
    "    strategy = None,\n",
    "    tpu = None,\n",
    "    gcp_project = None,\n",
    "    tpu_zone = None,\n",
    "    use_xla = False,\n",
    "    profile = False,\n",
    "    debug = False,\n",
    "    tf_random_seed = 111111,\n",
    "    verbose = 0\n",
    ")"
   ]
  },
  {
   "cell_type": "markdown",
   "metadata": {
    "id": "MXhvFk-tpvTi"
   },
   "source": [
    "LOAD TRAIN, VALIDATION E TEST DATASET DO CSV"
   ]
  },
  {
   "cell_type": "code",
   "execution_count": 12,
   "metadata": {
    "id": "f18EwbF7R9jS"
   },
   "outputs": [],
   "source": [
    "train_data, validation_data, test_data = object_detector.DataLoader.from_csv('model_path_fix.csv')\n",
    "#/content/drive/MyDrive/CSVs/"
   ]
  },
  {
   "cell_type": "code",
   "execution_count": 8,
   "metadata": {},
   "outputs": [
    {
     "data": {
      "text/plain": [
       "<tensorflow_examples.lite.model_maker.core.data_util.object_detector_dataloader.DataLoader at 0x7f7efe4ead30>"
      ]
     },
     "execution_count": 8,
     "metadata": {},
     "output_type": "execute_result"
    }
   ],
   "source": [
    "train_data"
   ]
  },
  {
   "cell_type": "markdown",
   "metadata": {
    "id": "qtXuw50Fp3Ns"
   },
   "source": [
    "TREINAR MODELO"
   ]
  },
  {
   "cell_type": "code",
   "execution_count": 13,
   "metadata": {
    "id": "ld2VmmLLSBcR"
   },
   "outputs": [
    {
     "ename": "PermissionDeniedError",
     "evalue": "/content; Permission denied [Op:CreateSummaryFileWriter]",
     "output_type": "error",
     "traceback": [
      "\u001b[0;31m---------------------------------------------------------------------------\u001b[0m",
      "\u001b[0;31mPermissionDeniedError\u001b[0m                     Traceback (most recent call last)",
      "\u001b[0;32m<ipython-input-13-001f67fbe497>\u001b[0m in \u001b[0;36m<module>\u001b[0;34m\u001b[0m\n\u001b[1;32m      1\u001b[0m model = object_detector.create(train_data, model_spec = spec,\n\u001b[1;32m      2\u001b[0m                                \u001b[0mtrain_whole_model\u001b[0m      \u001b[0;34m=\u001b[0m \u001b[0;32mTrue\u001b[0m\u001b[0;34m,\u001b[0m\u001b[0;34m\u001b[0m\u001b[0;34m\u001b[0m\u001b[0m\n\u001b[0;32m----> 3\u001b[0;31m                                validation_data        = validation_data)\n\u001b[0m",
      "\u001b[0;32m~/Desktop/pixlog/pixlog/lib/python3.6/site-packages/tensorflow_examples/lite/model_maker/core/task/object_detector.py\u001b[0m in \u001b[0;36mcreate\u001b[0;34m(cls, train_data, model_spec, validation_data, epochs, batch_size, train_whole_model, do_train)\u001b[0m\n\u001b[1;32m    258\u001b[0m     \u001b[0;32mif\u001b[0m \u001b[0mdo_train\u001b[0m\u001b[0;34m:\u001b[0m\u001b[0;34m\u001b[0m\u001b[0;34m\u001b[0m\u001b[0m\n\u001b[1;32m    259\u001b[0m       \u001b[0mtf\u001b[0m\u001b[0;34m.\u001b[0m\u001b[0mcompat\u001b[0m\u001b[0;34m.\u001b[0m\u001b[0mv1\u001b[0m\u001b[0;34m.\u001b[0m\u001b[0mlogging\u001b[0m\u001b[0;34m.\u001b[0m\u001b[0minfo\u001b[0m\u001b[0;34m(\u001b[0m\u001b[0;34m'Retraining the models...'\u001b[0m\u001b[0;34m)\u001b[0m\u001b[0;34m\u001b[0m\u001b[0;34m\u001b[0m\u001b[0m\n\u001b[0;32m--> 260\u001b[0;31m       \u001b[0mobject_detector\u001b[0m\u001b[0;34m.\u001b[0m\u001b[0mtrain\u001b[0m\u001b[0;34m(\u001b[0m\u001b[0mtrain_data\u001b[0m\u001b[0;34m,\u001b[0m \u001b[0mvalidation_data\u001b[0m\u001b[0;34m,\u001b[0m \u001b[0mepochs\u001b[0m\u001b[0;34m,\u001b[0m \u001b[0mbatch_size\u001b[0m\u001b[0;34m)\u001b[0m\u001b[0;34m\u001b[0m\u001b[0;34m\u001b[0m\u001b[0m\n\u001b[0m\u001b[1;32m    261\u001b[0m     \u001b[0;32melse\u001b[0m\u001b[0;34m:\u001b[0m\u001b[0;34m\u001b[0m\u001b[0;34m\u001b[0m\u001b[0m\n\u001b[1;32m    262\u001b[0m       \u001b[0mobject_detector\u001b[0m\u001b[0;34m.\u001b[0m\u001b[0mcreate_model\u001b[0m\u001b[0;34m(\u001b[0m\u001b[0;34m)\u001b[0m\u001b[0;34m\u001b[0m\u001b[0;34m\u001b[0m\u001b[0m\n",
      "\u001b[0;32m~/Desktop/pixlog/pixlog/lib/python3.6/site-packages/tensorflow_examples/lite/model_maker/core/task/object_detector.py\u001b[0m in \u001b[0;36mtrain\u001b[0;34m(self, train_data, validation_data, epochs, batch_size)\u001b[0m\n\u001b[1;32m    116\u001b[0m \u001b[0;34m\u001b[0m\u001b[0m\n\u001b[1;32m    117\u001b[0m     \u001b[0;32mwith\u001b[0m \u001b[0mself\u001b[0m\u001b[0;34m.\u001b[0m\u001b[0mmodel_spec\u001b[0m\u001b[0;34m.\u001b[0m\u001b[0mds_strategy\u001b[0m\u001b[0;34m.\u001b[0m\u001b[0mscope\u001b[0m\u001b[0;34m(\u001b[0m\u001b[0;34m)\u001b[0m\u001b[0;34m:\u001b[0m\u001b[0;34m\u001b[0m\u001b[0;34m\u001b[0m\u001b[0m\n\u001b[0;32m--> 118\u001b[0;31m       \u001b[0mself\u001b[0m\u001b[0;34m.\u001b[0m\u001b[0mcreate_model\u001b[0m\u001b[0;34m(\u001b[0m\u001b[0;34m)\u001b[0m\u001b[0;34m\u001b[0m\u001b[0;34m\u001b[0m\u001b[0m\n\u001b[0m\u001b[1;32m    119\u001b[0m       train_ds, steps_per_epoch, _ = self._get_dataset_and_steps(\n\u001b[1;32m    120\u001b[0m           train_data, batch_size, is_training=True)\n",
      "\u001b[0;32m~/Desktop/pixlog/pixlog/lib/python3.6/site-packages/tensorflow_examples/lite/model_maker/core/task/object_detector.py\u001b[0m in \u001b[0;36mcreate_model\u001b[0;34m(self)\u001b[0m\n\u001b[1;32m     72\u001b[0m \u001b[0;34m\u001b[0m\u001b[0m\n\u001b[1;32m     73\u001b[0m   \u001b[0;32mdef\u001b[0m \u001b[0mcreate_model\u001b[0m\u001b[0;34m(\u001b[0m\u001b[0mself\u001b[0m\u001b[0;34m)\u001b[0m \u001b[0;34m->\u001b[0m \u001b[0mtf\u001b[0m\u001b[0;34m.\u001b[0m\u001b[0mkeras\u001b[0m\u001b[0;34m.\u001b[0m\u001b[0mModel\u001b[0m\u001b[0;34m:\u001b[0m\u001b[0;34m\u001b[0m\u001b[0;34m\u001b[0m\u001b[0m\n\u001b[0;32m---> 74\u001b[0;31m     \u001b[0mself\u001b[0m\u001b[0;34m.\u001b[0m\u001b[0mmodel\u001b[0m \u001b[0;34m=\u001b[0m \u001b[0mself\u001b[0m\u001b[0;34m.\u001b[0m\u001b[0mmodel_spec\u001b[0m\u001b[0;34m.\u001b[0m\u001b[0mcreate_model\u001b[0m\u001b[0;34m(\u001b[0m\u001b[0;34m)\u001b[0m\u001b[0;34m\u001b[0m\u001b[0;34m\u001b[0m\u001b[0m\n\u001b[0m\u001b[1;32m     75\u001b[0m     \u001b[0;32mreturn\u001b[0m \u001b[0mself\u001b[0m\u001b[0;34m.\u001b[0m\u001b[0mmodel\u001b[0m\u001b[0;34m\u001b[0m\u001b[0;34m\u001b[0m\u001b[0m\n\u001b[1;32m     76\u001b[0m \u001b[0;34m\u001b[0m\u001b[0m\n",
      "\u001b[0;32m~/Desktop/pixlog/pixlog/lib/python3.6/site-packages/tensorflow_examples/lite/model_maker/core/task/model_spec/object_detector_spec.py\u001b[0m in \u001b[0;36mcreate_model\u001b[0;34m(self)\u001b[0m\n\u001b[1;32m    237\u001b[0m     \u001b[0;34m\"\"\"Creates the EfficientDet model.\"\"\"\u001b[0m\u001b[0;34m\u001b[0m\u001b[0;34m\u001b[0m\u001b[0m\n\u001b[1;32m    238\u001b[0m     return train_lib.EfficientDetNetTrainHub(\n\u001b[0;32m--> 239\u001b[0;31m         config=self.config, hub_module_url=self.uri)\n\u001b[0m\u001b[1;32m    240\u001b[0m \u001b[0;34m\u001b[0m\u001b[0m\n\u001b[1;32m    241\u001b[0m   def train(self,\n",
      "\u001b[0;32m~/Desktop/pixlog/pixlog/lib/python3.6/site-packages/tensorflow_examples/lite/model_maker/third_party/efficientdet/keras/train_lib.py\u001b[0m in \u001b[0;36m__init__\u001b[0;34m(self, config, hub_module_url, name)\u001b[0m\n\u001b[1;32m    880\u001b[0m \u001b[0;34m\u001b[0m\u001b[0m\n\u001b[1;32m    881\u001b[0m     \u001b[0mlog_dir\u001b[0m \u001b[0;34m=\u001b[0m \u001b[0mos\u001b[0m\u001b[0;34m.\u001b[0m\u001b[0mpath\u001b[0m\u001b[0;34m.\u001b[0m\u001b[0mjoin\u001b[0m\u001b[0;34m(\u001b[0m\u001b[0mself\u001b[0m\u001b[0;34m.\u001b[0m\u001b[0mconfig\u001b[0m\u001b[0;34m.\u001b[0m\u001b[0mmodel_dir\u001b[0m\u001b[0;34m,\u001b[0m \u001b[0;34m'train_images'\u001b[0m\u001b[0;34m)\u001b[0m\u001b[0;34m\u001b[0m\u001b[0;34m\u001b[0m\u001b[0m\n\u001b[0;32m--> 882\u001b[0;31m     \u001b[0mself\u001b[0m\u001b[0;34m.\u001b[0m\u001b[0msummary_writer\u001b[0m \u001b[0;34m=\u001b[0m \u001b[0mtf\u001b[0m\u001b[0;34m.\u001b[0m\u001b[0msummary\u001b[0m\u001b[0;34m.\u001b[0m\u001b[0mcreate_file_writer\u001b[0m\u001b[0;34m(\u001b[0m\u001b[0mlog_dir\u001b[0m\u001b[0;34m)\u001b[0m\u001b[0;34m\u001b[0m\u001b[0;34m\u001b[0m\u001b[0m\n\u001b[0m\u001b[1;32m    883\u001b[0m \u001b[0;34m\u001b[0m\u001b[0m\n\u001b[1;32m    884\u001b[0m   \u001b[0;32mdef\u001b[0m \u001b[0mcall\u001b[0m\u001b[0;34m(\u001b[0m\u001b[0mself\u001b[0m\u001b[0;34m,\u001b[0m \u001b[0minputs\u001b[0m\u001b[0;34m,\u001b[0m \u001b[0mtraining\u001b[0m\u001b[0;34m)\u001b[0m\u001b[0;34m:\u001b[0m\u001b[0;34m\u001b[0m\u001b[0;34m\u001b[0m\u001b[0m\n",
      "\u001b[0;32m~/Desktop/pixlog/pixlog/lib/python3.6/site-packages/tensorflow/python/ops/summary_ops_v2.py\u001b[0m in \u001b[0;36mcreate_file_writer_v2\u001b[0;34m(logdir, max_queue, flush_millis, filename_suffix, name, experimental_trackable)\u001b[0m\n\u001b[1;32m    552\u001b[0m       \u001b[0;32melse\u001b[0m\u001b[0;34m:\u001b[0m\u001b[0;34m\u001b[0m\u001b[0;34m\u001b[0m\u001b[0m\n\u001b[1;32m    553\u001b[0m         return _ResourceSummaryWriter(\n\u001b[0;32m--> 554\u001b[0;31m             create_fn=create_fn, init_op_fn=init_op_fn)\n\u001b[0m\u001b[1;32m    555\u001b[0m \u001b[0;34m\u001b[0m\u001b[0m\n\u001b[1;32m    556\u001b[0m \u001b[0;34m\u001b[0m\u001b[0m\n",
      "\u001b[0;32m~/Desktop/pixlog/pixlog/lib/python3.6/site-packages/tensorflow/python/ops/summary_ops_v2.py\u001b[0m in \u001b[0;36m__init__\u001b[0;34m(self, create_fn, init_op_fn)\u001b[0m\n\u001b[1;32m    311\u001b[0m   \u001b[0;32mdef\u001b[0m \u001b[0m__init__\u001b[0m\u001b[0;34m(\u001b[0m\u001b[0mself\u001b[0m\u001b[0;34m,\u001b[0m \u001b[0mcreate_fn\u001b[0m\u001b[0;34m,\u001b[0m \u001b[0minit_op_fn\u001b[0m\u001b[0;34m)\u001b[0m\u001b[0;34m:\u001b[0m\u001b[0;34m\u001b[0m\u001b[0;34m\u001b[0m\u001b[0m\n\u001b[1;32m    312\u001b[0m     \u001b[0mself\u001b[0m\u001b[0;34m.\u001b[0m\u001b[0m_resource\u001b[0m \u001b[0;34m=\u001b[0m \u001b[0mcreate_fn\u001b[0m\u001b[0;34m(\u001b[0m\u001b[0;34m)\u001b[0m\u001b[0;34m\u001b[0m\u001b[0;34m\u001b[0m\u001b[0m\n\u001b[0;32m--> 313\u001b[0;31m     \u001b[0mself\u001b[0m\u001b[0;34m.\u001b[0m\u001b[0m_init_op\u001b[0m \u001b[0;34m=\u001b[0m \u001b[0minit_op_fn\u001b[0m\u001b[0;34m(\u001b[0m\u001b[0mself\u001b[0m\u001b[0;34m.\u001b[0m\u001b[0m_resource\u001b[0m\u001b[0;34m)\u001b[0m\u001b[0;34m\u001b[0m\u001b[0;34m\u001b[0m\u001b[0m\n\u001b[0m\u001b[1;32m    314\u001b[0m     \u001b[0mself\u001b[0m\u001b[0;34m.\u001b[0m\u001b[0m_closed\u001b[0m \u001b[0;34m=\u001b[0m \u001b[0;32mFalse\u001b[0m\u001b[0;34m\u001b[0m\u001b[0;34m\u001b[0m\u001b[0m\n\u001b[1;32m    315\u001b[0m     \u001b[0;32mif\u001b[0m \u001b[0mcontext\u001b[0m\u001b[0;34m.\u001b[0m\u001b[0mexecuting_eagerly\u001b[0m\u001b[0;34m(\u001b[0m\u001b[0;34m)\u001b[0m\u001b[0;34m:\u001b[0m\u001b[0;34m\u001b[0m\u001b[0;34m\u001b[0m\u001b[0m\n",
      "\u001b[0;32m~/Desktop/pixlog/pixlog/lib/python3.6/site-packages/tensorflow/python/ops/gen_summary_ops.py\u001b[0m in \u001b[0;36mcreate_summary_file_writer\u001b[0;34m(writer, logdir, max_queue, flush_millis, filename_suffix, name)\u001b[0m\n\u001b[1;32m    144\u001b[0m       \u001b[0;32mreturn\u001b[0m \u001b[0m_result\u001b[0m\u001b[0;34m\u001b[0m\u001b[0;34m\u001b[0m\u001b[0m\n\u001b[1;32m    145\u001b[0m     \u001b[0;32mexcept\u001b[0m \u001b[0m_core\u001b[0m\u001b[0;34m.\u001b[0m\u001b[0m_NotOkStatusException\u001b[0m \u001b[0;32mas\u001b[0m \u001b[0me\u001b[0m\u001b[0;34m:\u001b[0m\u001b[0;34m\u001b[0m\u001b[0;34m\u001b[0m\u001b[0m\n\u001b[0;32m--> 146\u001b[0;31m       \u001b[0m_ops\u001b[0m\u001b[0;34m.\u001b[0m\u001b[0mraise_from_not_ok_status\u001b[0m\u001b[0;34m(\u001b[0m\u001b[0me\u001b[0m\u001b[0;34m,\u001b[0m \u001b[0mname\u001b[0m\u001b[0;34m)\u001b[0m\u001b[0;34m\u001b[0m\u001b[0;34m\u001b[0m\u001b[0m\n\u001b[0m\u001b[1;32m    147\u001b[0m     \u001b[0;32mexcept\u001b[0m \u001b[0m_core\u001b[0m\u001b[0;34m.\u001b[0m\u001b[0m_FallbackException\u001b[0m\u001b[0;34m:\u001b[0m\u001b[0;34m\u001b[0m\u001b[0;34m\u001b[0m\u001b[0m\n\u001b[1;32m    148\u001b[0m       \u001b[0;32mpass\u001b[0m\u001b[0;34m\u001b[0m\u001b[0;34m\u001b[0m\u001b[0m\n",
      "\u001b[0;32m~/Desktop/pixlog/pixlog/lib/python3.6/site-packages/tensorflow/python/framework/ops.py\u001b[0m in \u001b[0;36mraise_from_not_ok_status\u001b[0;34m(e, name)\u001b[0m\n\u001b[1;32m   6939\u001b[0m   \u001b[0mmessage\u001b[0m \u001b[0;34m=\u001b[0m \u001b[0me\u001b[0m\u001b[0;34m.\u001b[0m\u001b[0mmessage\u001b[0m \u001b[0;34m+\u001b[0m \u001b[0;34m(\u001b[0m\u001b[0;34m\" name: \"\u001b[0m \u001b[0;34m+\u001b[0m \u001b[0mname\u001b[0m \u001b[0;32mif\u001b[0m \u001b[0mname\u001b[0m \u001b[0;32mis\u001b[0m \u001b[0;32mnot\u001b[0m \u001b[0;32mNone\u001b[0m \u001b[0;32melse\u001b[0m \u001b[0;34m\"\"\u001b[0m\u001b[0;34m)\u001b[0m\u001b[0;34m\u001b[0m\u001b[0;34m\u001b[0m\u001b[0m\n\u001b[1;32m   6940\u001b[0m   \u001b[0;31m# pylint: disable=protected-access\u001b[0m\u001b[0;34m\u001b[0m\u001b[0;34m\u001b[0m\u001b[0;34m\u001b[0m\u001b[0m\n\u001b[0;32m-> 6941\u001b[0;31m   \u001b[0msix\u001b[0m\u001b[0;34m.\u001b[0m\u001b[0mraise_from\u001b[0m\u001b[0;34m(\u001b[0m\u001b[0mcore\u001b[0m\u001b[0;34m.\u001b[0m\u001b[0m_status_to_exception\u001b[0m\u001b[0;34m(\u001b[0m\u001b[0me\u001b[0m\u001b[0;34m.\u001b[0m\u001b[0mcode\u001b[0m\u001b[0;34m,\u001b[0m \u001b[0mmessage\u001b[0m\u001b[0;34m)\u001b[0m\u001b[0;34m,\u001b[0m \u001b[0;32mNone\u001b[0m\u001b[0;34m)\u001b[0m\u001b[0;34m\u001b[0m\u001b[0;34m\u001b[0m\u001b[0m\n\u001b[0m\u001b[1;32m   6942\u001b[0m   \u001b[0;31m# pylint: enable=protected-access\u001b[0m\u001b[0;34m\u001b[0m\u001b[0;34m\u001b[0m\u001b[0;34m\u001b[0m\u001b[0m\n\u001b[1;32m   6943\u001b[0m \u001b[0;34m\u001b[0m\u001b[0m\n",
      "\u001b[0;32m~/Desktop/pixlog/pixlog/lib/python3.6/site-packages/six.py\u001b[0m in \u001b[0;36mraise_from\u001b[0;34m(value, from_value)\u001b[0m\n",
      "\u001b[0;31mPermissionDeniedError\u001b[0m: /content; Permission denied [Op:CreateSummaryFileWriter]"
     ]
    }
   ],
   "source": [
    "model = object_detector.create(train_data, model_spec = spec,\n",
    "                               train_whole_model      = True, \n",
    "                               validation_data        = validation_data)"
   ]
  },
  {
   "cell_type": "markdown",
   "metadata": {
    "id": "daWEK2ZBp95j"
   },
   "source": [
    "EVALUATE MODELO"
   ]
  },
  {
   "cell_type": "code",
   "execution_count": null,
   "metadata": {
    "colab": {
     "background_save": true
    },
    "id": "B1jm14ouwA5l"
   },
   "outputs": [],
   "source": [
    "model.evaluate(test_data)"
   ]
  },
  {
   "cell_type": "markdown",
   "metadata": {
    "id": "adx3Mwi3qCZ4"
   },
   "source": [
    "EXPORTAR PARA O DRIVE O MODELO .TFLITE"
   ]
  },
  {
   "cell_type": "code",
   "execution_count": 7,
   "metadata": {
    "colab": {
     "background_save": true
    },
    "id": "s7iiohhU9lQy"
   },
   "outputs": [],
   "source": [
    "model.export(export_dir='./')"
   ]
  },
  {
   "cell_type": "markdown",
   "metadata": {
    "id": "t3-sy8c6qINt"
   },
   "source": [
    "EVALUATE MODELO .TFLITE"
   ]
  },
  {
   "cell_type": "code",
   "execution_count": 6,
   "metadata": {
    "id": "Cag5QPWE7L9f"
   },
   "outputs": [
    {
     "ename": "NameError",
     "evalue": "name 'model' is not defined",
     "output_type": "error",
     "traceback": [
      "\u001b[0;31m---------------------------------------------------------------------------\u001b[0m",
      "\u001b[0;31mNameError\u001b[0m                                 Traceback (most recent call last)",
      "\u001b[0;32m<ipython-input-6-8eb866d0c18c>\u001b[0m in \u001b[0;36m<module>\u001b[0;34m\u001b[0m\n\u001b[0;32m----> 1\u001b[0;31m \u001b[0mmodel\u001b[0m\u001b[0;34m.\u001b[0m\u001b[0mevaluate_tflite\u001b[0m\u001b[0;34m(\u001b[0m\u001b[0;34m'/content/drive/MyDrive/model.tflite'\u001b[0m\u001b[0;34m,\u001b[0m \u001b[0mtest_data\u001b[0m\u001b[0;34m)\u001b[0m\u001b[0;34m\u001b[0m\u001b[0;34m\u001b[0m\u001b[0m\n\u001b[0m",
      "\u001b[0;31mNameError\u001b[0m: name 'model' is not defined"
     ]
    }
   ],
   "source": [
    "model.evaluate_tflite('/content/drive/MyDrive/model.tflite', test_data)"
   ]
  },
  {
   "cell_type": "markdown",
   "metadata": {
    "id": "YpY49CszqRt2"
   },
   "source": [
    "ANALISAR GRÁFICOS COM TENSORBOARD"
   ]
  },
  {
   "cell_type": "code",
   "execution_count": 6,
   "metadata": {
    "executionInfo": {
     "elapsed": 3,
     "status": "ok",
     "timestamp": 1649346179602,
     "user": {
      "displayName": "Dev Pixlog",
      "userId": "08701028484598174434"
     },
     "user_tz": 180
    },
    "id": "G3YOEeuC6cxY"
   },
   "outputs": [
    {
     "name": "stdout",
     "output_type": "stream",
     "text": [
      "The tensorboard extension is already loaded. To reload it, use:\n",
      "  %reload_ext tensorboard\n"
     ]
    },
    {
     "data": {
      "text/html": [
       "\n",
       "      <iframe id=\"tensorboard-frame-9e6227e12c05226e\" width=\"100%\" height=\"800\" frameborder=\"0\">\n",
       "      </iframe>\n",
       "      <script>\n",
       "        (function() {\n",
       "          const frame = document.getElementById(\"tensorboard-frame-9e6227e12c05226e\");\n",
       "          const url = new URL(\"/\", window.location);\n",
       "          const port = 6007;\n",
       "          if (port) {\n",
       "            url.port = port;\n",
       "          }\n",
       "          frame.src = url;\n",
       "        })();\n",
       "      </script>\n",
       "    "
      ],
      "text/plain": [
       "<IPython.core.display.HTML object>"
      ]
     },
     "metadata": {},
     "output_type": "display_data"
    }
   ],
   "source": [
    "%load_ext tensorboard\n",
    "%tensorboard --logdir models/"
   ]
  }
 ],
 "metadata": {
  "accelerator": "GPU",
  "colab": {
   "background_execution": "on",
   "collapsed_sections": [],
   "machine_shape": "hm",
   "name": "pixlog.ipynb",
   "provenance": []
  },
  "kernelspec": {
   "display_name": "Python 3",
   "language": "python",
   "name": "python3"
  },
  "language_info": {
   "codemirror_mode": {
    "name": "ipython",
    "version": 3
   },
   "file_extension": ".py",
   "mimetype": "text/x-python",
   "name": "python",
   "nbconvert_exporter": "python",
   "pygments_lexer": "ipython3",
   "version": "3.6.9"
  }
 },
 "nbformat": 4,
 "nbformat_minor": 4
}
